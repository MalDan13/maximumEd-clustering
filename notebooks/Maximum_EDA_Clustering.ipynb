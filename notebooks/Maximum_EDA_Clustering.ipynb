{
  "nbformat": 4,
  "nbformat_minor": 0,
  "metadata": {
    "colab": {
      "provenance": [],
      "toc_visible": true
    },
    "kernelspec": {
      "name": "python3",
      "display_name": "Python 3"
    },
    "language_info": {
      "name": "python"
    }
  },
  "cells": [
    {
      "cell_type": "markdown",
      "source": [
        "# Кластеризация пользователей по целям"
      ],
      "metadata": {
        "id": "tKwiv4gUxh7q"
      }
    },
    {
      "cell_type": "markdown",
      "source": [
        "Задача: Сегментировать пользователей на группы (например, \"потенциальные покупатели\", \"случайные посетители\").\n",
        "\n",
        "Предполагаемые фичи:\n",
        "\n",
        "\n",
        "*   Посещенные страницы (категории товаров/услуг)\n",
        "*   Наличие и количество регистраций\n"
      ],
      "metadata": {
        "id": "PDt7AAnb04RU"
      }
    },
    {
      "cell_type": "markdown",
      "source": [
        "Задача кластеризации пользователей может быть полезной для бизнеса. Так можно среди всех посетителей сайта выделить группы потенциальных покупателей, понять, что они чаще всего ищут на сайте, что их привлекает, какие услуги им можно предлагать. При обнаружении таких посетителей сайта можно таргетно предлагать им определенные услуги, скидки и тд, чтобы еще больше привлечь их."
      ],
      "metadata": {
        "id": "RKQiJ1Pu1Km0"
      }
    },
    {
      "cell_type": "markdown",
      "source": [
        "Задачи:\n",
        "\n",
        "\n",
        "1.   Провести EDA\n",
        "2.   Определить фичи, подходящие для кластеризации\n",
        "3. Использовать DBSCAN/K-Means\n",
        "\n",
        "\n"
      ],
      "metadata": {
        "id": "FCCd34u32Y0p"
      }
    },
    {
      "cell_type": "markdown",
      "source": [
        "## Разведка данных"
      ],
      "metadata": {
        "id": "oYSHfKog3Dyc"
      }
    },
    {
      "cell_type": "code",
      "execution_count": 3,
      "metadata": {
        "id": "wLeiJEQpJpu3"
      },
      "outputs": [],
      "source": [
        "import pandas as pd\n",
        "from sklearn.cluster import KMeans\n",
        "import matplotlib.pyplot as plt\n",
        "from sklearn.preprocessing import StandardScaler\n",
        "import numpy as np\n",
        "from sklearn.metrics import silhouette_score"
      ]
    },
    {
      "cell_type": "code",
      "source": [
        "df = pd.read_parquet(\"/content/drive/MyDrive/Colab Notebooks/ds_intro_web_yandex_metrika_data.parquet.gzip\")"
      ],
      "metadata": {
        "id": "K2YDrBetKzyL"
      },
      "execution_count": 4,
      "outputs": []
    },
    {
      "cell_type": "code",
      "source": [
        "df.info()"
      ],
      "metadata": {
        "colab": {
          "base_uri": "https://localhost:8080/"
        },
        "id": "Lc7c6HmTEq5J",
        "outputId": "b06fa553-86d6-4e40-b2bd-a96ab9e09a93"
      },
      "execution_count": 5,
      "outputs": [
        {
          "output_type": "stream",
          "name": "stdout",
          "text": [
            "<class 'pandas.core.frame.DataFrame'>\n",
            "RangeIndex: 332523 entries, 0 to 332522\n",
            "Data columns (total 27 columns):\n",
            " #   Column               Non-Null Count   Dtype                                \n",
            "---  ------               --------------   -----                                \n",
            " 0   visitID              332523 non-null  uint64                               \n",
            " 1   date                 332523 non-null  datetime64[ms]                       \n",
            " 2   dateTime             332523 non-null  datetime64[ms, pytz.FixedOffset(180)]\n",
            " 3   dateTimeUTC          332523 non-null  datetime64[ms, pytz.FixedOffset(180)]\n",
            " 4   isNewUser            332523 non-null  uint8                                \n",
            " 5   startURL             332523 non-null  string                               \n",
            " 6   endURL               332523 non-null  string                               \n",
            " 7   pageViews            332523 non-null  int32                                \n",
            " 8   visitDuration        332523 non-null  uint32                               \n",
            " 9   bounce               332523 non-null  uint8                                \n",
            " 10  regionCountry        332523 non-null  string                               \n",
            " 11  regionCity           332523 non-null  string                               \n",
            " 12  clientID             332523 non-null  uint64                               \n",
            " 13  counterUserIDHash    332523 non-null  uint64                               \n",
            " 14  referer              332523 non-null  string                               \n",
            " 15  lastTrafficSource    332523 non-null  string                               \n",
            " 16  mobilePhone          332523 non-null  string                               \n",
            " 17  operatingSystemRoot  332523 non-null  string                               \n",
            " 18  operatingSystem      332523 non-null  string                               \n",
            " 19  browser              332523 non-null  string                               \n",
            " 20  UTMCampaign          332523 non-null  string                               \n",
            " 21  UTMContent           332523 non-null  string                               \n",
            " 22  UTMMedium            332523 non-null  string                               \n",
            " 23  UTMSource            332523 non-null  string                               \n",
            " 24  UTMTerm              332523 non-null  string                               \n",
            " 25  registration_left    332523 non-null  bool                                 \n",
            " 26  total_regs           332523 non-null  uint64                               \n",
            "dtypes: bool(1), datetime64[ms, pytz.FixedOffset(180)](2), datetime64[ms](1), int32(1), string(15), uint32(1), uint64(4), uint8(2)\n",
            "memory usage: 59.3 MB\n"
          ]
        }
      ]
    },
    {
      "cell_type": "code",
      "source": [
        "df.head()"
      ],
      "metadata": {
        "colab": {
          "base_uri": "https://localhost:8080/",
          "height": 342
        },
        "id": "5sam5MJZLBXm",
        "outputId": "f4b9c0d3-463f-4ed0-befb-c8848146ef61"
      },
      "execution_count": 6,
      "outputs": [
        {
          "output_type": "execute_result",
          "data": {
            "text/plain": [
              "               visitID       date                  dateTime  \\\n",
              "0  4930130390218965245 2024-08-24 2024-08-24 19:09:14+03:00   \n",
              "1  4931195681883816238 2024-08-24 2024-08-24 20:16:58+03:00   \n",
              "2  4931400781901332597 2024-08-24 2024-08-24 20:30:01+03:00   \n",
              "3  4933369587684344107 2024-08-24 2024-08-24 22:35:11+03:00   \n",
              "4  4929748909394231354 2024-08-24 2024-08-24 18:44:59+03:00   \n",
              "\n",
              "                dateTimeUTC  isNewUser  \\\n",
              "0 2024-08-24 19:09:14+03:00          1   \n",
              "1 2024-08-24 20:16:58+03:00          1   \n",
              "2 2024-08-24 20:30:01+03:00          0   \n",
              "3 2024-08-24 22:35:11+03:00          0   \n",
              "4 2024-08-24 18:44:59+03:00          1   \n",
              "\n",
              "                                            startURL  \\\n",
              "0  https://chelyabinsk.propostuplenie.ru/vuzi/chi...   \n",
              "1  https://maximumtest.ru/uchebnik/10-klass/biolo...   \n",
              "2   https://education.maximumtest.ru/student/courses   \n",
              "3  https://blog.maximumtest.ru/post/opublikovano-...   \n",
              "4  https://maximumtest.ru/uchebnik/5-klass/matema...   \n",
              "\n",
              "                                              endURL  pageViews  \\\n",
              "0  https://chelyabinsk.propostuplenie.ru/vuzi/chi...          1   \n",
              "1  https://maximumtest.ru/uchebnik/10-klass/biolo...          1   \n",
              "2   https://education.maximumtest.ru/student/courses          1   \n",
              "3  https://blog.maximumtest.ru/post/opublikovano-...          1   \n",
              "4  https://maximumtest.ru/uchebnik/5-klass/matema...          1   \n",
              "\n",
              "   visitDuration  bounce  ... operatingSystemRoot operatingSystem  \\\n",
              "0              0       1  ...             android      android_10   \n",
              "1            335       0  ...          ios_double           ios17   \n",
              "2             19       0  ...             windows       windows10   \n",
              "3             15       0  ...             android      android_14   \n",
              "4              1       1  ...             android      android_10   \n",
              "\n",
              "          browser  UTMCampaign UTMContent UTMMedium UTMSource UTMTerm  \\\n",
              "0  yandex_browser          nan        nan       nan       nan     nan   \n",
              "1   safari_mobile          nan        nan       nan       nan     nan   \n",
              "2          chrome          nan        nan       nan       nan     nan   \n",
              "3    yandexsearch          nan        nan       nan       nan     nan   \n",
              "4    chromemobile          nan        nan       nan       nan     nan   \n",
              "\n",
              "  registration_left total_regs  \n",
              "0             False          0  \n",
              "1             False          0  \n",
              "2             False          0  \n",
              "3             False          0  \n",
              "4             False          0  \n",
              "\n",
              "[5 rows x 27 columns]"
            ],
            "text/html": [
              "\n",
              "  <div id=\"df-ea086ba0-3cfe-44be-8176-d293f075f1c7\" class=\"colab-df-container\">\n",
              "    <div>\n",
              "<style scoped>\n",
              "    .dataframe tbody tr th:only-of-type {\n",
              "        vertical-align: middle;\n",
              "    }\n",
              "\n",
              "    .dataframe tbody tr th {\n",
              "        vertical-align: top;\n",
              "    }\n",
              "\n",
              "    .dataframe thead th {\n",
              "        text-align: right;\n",
              "    }\n",
              "</style>\n",
              "<table border=\"1\" class=\"dataframe\">\n",
              "  <thead>\n",
              "    <tr style=\"text-align: right;\">\n",
              "      <th></th>\n",
              "      <th>visitID</th>\n",
              "      <th>date</th>\n",
              "      <th>dateTime</th>\n",
              "      <th>dateTimeUTC</th>\n",
              "      <th>isNewUser</th>\n",
              "      <th>startURL</th>\n",
              "      <th>endURL</th>\n",
              "      <th>pageViews</th>\n",
              "      <th>visitDuration</th>\n",
              "      <th>bounce</th>\n",
              "      <th>...</th>\n",
              "      <th>operatingSystemRoot</th>\n",
              "      <th>operatingSystem</th>\n",
              "      <th>browser</th>\n",
              "      <th>UTMCampaign</th>\n",
              "      <th>UTMContent</th>\n",
              "      <th>UTMMedium</th>\n",
              "      <th>UTMSource</th>\n",
              "      <th>UTMTerm</th>\n",
              "      <th>registration_left</th>\n",
              "      <th>total_regs</th>\n",
              "    </tr>\n",
              "  </thead>\n",
              "  <tbody>\n",
              "    <tr>\n",
              "      <th>0</th>\n",
              "      <td>4930130390218965245</td>\n",
              "      <td>2024-08-24</td>\n",
              "      <td>2024-08-24 19:09:14+03:00</td>\n",
              "      <td>2024-08-24 19:09:14+03:00</td>\n",
              "      <td>1</td>\n",
              "      <td>https://chelyabinsk.propostuplenie.ru/vuzi/chi...</td>\n",
              "      <td>https://chelyabinsk.propostuplenie.ru/vuzi/chi...</td>\n",
              "      <td>1</td>\n",
              "      <td>0</td>\n",
              "      <td>1</td>\n",
              "      <td>...</td>\n",
              "      <td>android</td>\n",
              "      <td>android_10</td>\n",
              "      <td>yandex_browser</td>\n",
              "      <td>nan</td>\n",
              "      <td>nan</td>\n",
              "      <td>nan</td>\n",
              "      <td>nan</td>\n",
              "      <td>nan</td>\n",
              "      <td>False</td>\n",
              "      <td>0</td>\n",
              "    </tr>\n",
              "    <tr>\n",
              "      <th>1</th>\n",
              "      <td>4931195681883816238</td>\n",
              "      <td>2024-08-24</td>\n",
              "      <td>2024-08-24 20:16:58+03:00</td>\n",
              "      <td>2024-08-24 20:16:58+03:00</td>\n",
              "      <td>1</td>\n",
              "      <td>https://maximumtest.ru/uchebnik/10-klass/biolo...</td>\n",
              "      <td>https://maximumtest.ru/uchebnik/10-klass/biolo...</td>\n",
              "      <td>1</td>\n",
              "      <td>335</td>\n",
              "      <td>0</td>\n",
              "      <td>...</td>\n",
              "      <td>ios_double</td>\n",
              "      <td>ios17</td>\n",
              "      <td>safari_mobile</td>\n",
              "      <td>nan</td>\n",
              "      <td>nan</td>\n",
              "      <td>nan</td>\n",
              "      <td>nan</td>\n",
              "      <td>nan</td>\n",
              "      <td>False</td>\n",
              "      <td>0</td>\n",
              "    </tr>\n",
              "    <tr>\n",
              "      <th>2</th>\n",
              "      <td>4931400781901332597</td>\n",
              "      <td>2024-08-24</td>\n",
              "      <td>2024-08-24 20:30:01+03:00</td>\n",
              "      <td>2024-08-24 20:30:01+03:00</td>\n",
              "      <td>0</td>\n",
              "      <td>https://education.maximumtest.ru/student/courses</td>\n",
              "      <td>https://education.maximumtest.ru/student/courses</td>\n",
              "      <td>1</td>\n",
              "      <td>19</td>\n",
              "      <td>0</td>\n",
              "      <td>...</td>\n",
              "      <td>windows</td>\n",
              "      <td>windows10</td>\n",
              "      <td>chrome</td>\n",
              "      <td>nan</td>\n",
              "      <td>nan</td>\n",
              "      <td>nan</td>\n",
              "      <td>nan</td>\n",
              "      <td>nan</td>\n",
              "      <td>False</td>\n",
              "      <td>0</td>\n",
              "    </tr>\n",
              "    <tr>\n",
              "      <th>3</th>\n",
              "      <td>4933369587684344107</td>\n",
              "      <td>2024-08-24</td>\n",
              "      <td>2024-08-24 22:35:11+03:00</td>\n",
              "      <td>2024-08-24 22:35:11+03:00</td>\n",
              "      <td>0</td>\n",
              "      <td>https://blog.maximumtest.ru/post/opublikovano-...</td>\n",
              "      <td>https://blog.maximumtest.ru/post/opublikovano-...</td>\n",
              "      <td>1</td>\n",
              "      <td>15</td>\n",
              "      <td>0</td>\n",
              "      <td>...</td>\n",
              "      <td>android</td>\n",
              "      <td>android_14</td>\n",
              "      <td>yandexsearch</td>\n",
              "      <td>nan</td>\n",
              "      <td>nan</td>\n",
              "      <td>nan</td>\n",
              "      <td>nan</td>\n",
              "      <td>nan</td>\n",
              "      <td>False</td>\n",
              "      <td>0</td>\n",
              "    </tr>\n",
              "    <tr>\n",
              "      <th>4</th>\n",
              "      <td>4929748909394231354</td>\n",
              "      <td>2024-08-24</td>\n",
              "      <td>2024-08-24 18:44:59+03:00</td>\n",
              "      <td>2024-08-24 18:44:59+03:00</td>\n",
              "      <td>1</td>\n",
              "      <td>https://maximumtest.ru/uchebnik/5-klass/matema...</td>\n",
              "      <td>https://maximumtest.ru/uchebnik/5-klass/matema...</td>\n",
              "      <td>1</td>\n",
              "      <td>1</td>\n",
              "      <td>1</td>\n",
              "      <td>...</td>\n",
              "      <td>android</td>\n",
              "      <td>android_10</td>\n",
              "      <td>chromemobile</td>\n",
              "      <td>nan</td>\n",
              "      <td>nan</td>\n",
              "      <td>nan</td>\n",
              "      <td>nan</td>\n",
              "      <td>nan</td>\n",
              "      <td>False</td>\n",
              "      <td>0</td>\n",
              "    </tr>\n",
              "  </tbody>\n",
              "</table>\n",
              "<p>5 rows × 27 columns</p>\n",
              "</div>\n",
              "    <div class=\"colab-df-buttons\">\n",
              "\n",
              "  <div class=\"colab-df-container\">\n",
              "    <button class=\"colab-df-convert\" onclick=\"convertToInteractive('df-ea086ba0-3cfe-44be-8176-d293f075f1c7')\"\n",
              "            title=\"Convert this dataframe to an interactive table.\"\n",
              "            style=\"display:none;\">\n",
              "\n",
              "  <svg xmlns=\"http://www.w3.org/2000/svg\" height=\"24px\" viewBox=\"0 -960 960 960\">\n",
              "    <path d=\"M120-120v-720h720v720H120Zm60-500h600v-160H180v160Zm220 220h160v-160H400v160Zm0 220h160v-160H400v160ZM180-400h160v-160H180v160Zm440 0h160v-160H620v160ZM180-180h160v-160H180v160Zm440 0h160v-160H620v160Z\"/>\n",
              "  </svg>\n",
              "    </button>\n",
              "\n",
              "  <style>\n",
              "    .colab-df-container {\n",
              "      display:flex;\n",
              "      gap: 12px;\n",
              "    }\n",
              "\n",
              "    .colab-df-convert {\n",
              "      background-color: #E8F0FE;\n",
              "      border: none;\n",
              "      border-radius: 50%;\n",
              "      cursor: pointer;\n",
              "      display: none;\n",
              "      fill: #1967D2;\n",
              "      height: 32px;\n",
              "      padding: 0 0 0 0;\n",
              "      width: 32px;\n",
              "    }\n",
              "\n",
              "    .colab-df-convert:hover {\n",
              "      background-color: #E2EBFA;\n",
              "      box-shadow: 0px 1px 2px rgba(60, 64, 67, 0.3), 0px 1px 3px 1px rgba(60, 64, 67, 0.15);\n",
              "      fill: #174EA6;\n",
              "    }\n",
              "\n",
              "    .colab-df-buttons div {\n",
              "      margin-bottom: 4px;\n",
              "    }\n",
              "\n",
              "    [theme=dark] .colab-df-convert {\n",
              "      background-color: #3B4455;\n",
              "      fill: #D2E3FC;\n",
              "    }\n",
              "\n",
              "    [theme=dark] .colab-df-convert:hover {\n",
              "      background-color: #434B5C;\n",
              "      box-shadow: 0px 1px 3px 1px rgba(0, 0, 0, 0.15);\n",
              "      filter: drop-shadow(0px 1px 2px rgba(0, 0, 0, 0.3));\n",
              "      fill: #FFFFFF;\n",
              "    }\n",
              "  </style>\n",
              "\n",
              "    <script>\n",
              "      const buttonEl =\n",
              "        document.querySelector('#df-ea086ba0-3cfe-44be-8176-d293f075f1c7 button.colab-df-convert');\n",
              "      buttonEl.style.display =\n",
              "        google.colab.kernel.accessAllowed ? 'block' : 'none';\n",
              "\n",
              "      async function convertToInteractive(key) {\n",
              "        const element = document.querySelector('#df-ea086ba0-3cfe-44be-8176-d293f075f1c7');\n",
              "        const dataTable =\n",
              "          await google.colab.kernel.invokeFunction('convertToInteractive',\n",
              "                                                    [key], {});\n",
              "        if (!dataTable) return;\n",
              "\n",
              "        const docLinkHtml = 'Like what you see? Visit the ' +\n",
              "          '<a target=\"_blank\" href=https://colab.research.google.com/notebooks/data_table.ipynb>data table notebook</a>'\n",
              "          + ' to learn more about interactive tables.';\n",
              "        element.innerHTML = '';\n",
              "        dataTable['output_type'] = 'display_data';\n",
              "        await google.colab.output.renderOutput(dataTable, element);\n",
              "        const docLink = document.createElement('div');\n",
              "        docLink.innerHTML = docLinkHtml;\n",
              "        element.appendChild(docLink);\n",
              "      }\n",
              "    </script>\n",
              "  </div>\n",
              "\n",
              "\n",
              "<div id=\"df-eb18ec34-fee4-4c03-9c38-fea115eb3727\">\n",
              "  <button class=\"colab-df-quickchart\" onclick=\"quickchart('df-eb18ec34-fee4-4c03-9c38-fea115eb3727')\"\n",
              "            title=\"Suggest charts\"\n",
              "            style=\"display:none;\">\n",
              "\n",
              "<svg xmlns=\"http://www.w3.org/2000/svg\" height=\"24px\"viewBox=\"0 0 24 24\"\n",
              "     width=\"24px\">\n",
              "    <g>\n",
              "        <path d=\"M19 3H5c-1.1 0-2 .9-2 2v14c0 1.1.9 2 2 2h14c1.1 0 2-.9 2-2V5c0-1.1-.9-2-2-2zM9 17H7v-7h2v7zm4 0h-2V7h2v10zm4 0h-2v-4h2v4z\"/>\n",
              "    </g>\n",
              "</svg>\n",
              "  </button>\n",
              "\n",
              "<style>\n",
              "  .colab-df-quickchart {\n",
              "      --bg-color: #E8F0FE;\n",
              "      --fill-color: #1967D2;\n",
              "      --hover-bg-color: #E2EBFA;\n",
              "      --hover-fill-color: #174EA6;\n",
              "      --disabled-fill-color: #AAA;\n",
              "      --disabled-bg-color: #DDD;\n",
              "  }\n",
              "\n",
              "  [theme=dark] .colab-df-quickchart {\n",
              "      --bg-color: #3B4455;\n",
              "      --fill-color: #D2E3FC;\n",
              "      --hover-bg-color: #434B5C;\n",
              "      --hover-fill-color: #FFFFFF;\n",
              "      --disabled-bg-color: #3B4455;\n",
              "      --disabled-fill-color: #666;\n",
              "  }\n",
              "\n",
              "  .colab-df-quickchart {\n",
              "    background-color: var(--bg-color);\n",
              "    border: none;\n",
              "    border-radius: 50%;\n",
              "    cursor: pointer;\n",
              "    display: none;\n",
              "    fill: var(--fill-color);\n",
              "    height: 32px;\n",
              "    padding: 0;\n",
              "    width: 32px;\n",
              "  }\n",
              "\n",
              "  .colab-df-quickchart:hover {\n",
              "    background-color: var(--hover-bg-color);\n",
              "    box-shadow: 0 1px 2px rgba(60, 64, 67, 0.3), 0 1px 3px 1px rgba(60, 64, 67, 0.15);\n",
              "    fill: var(--button-hover-fill-color);\n",
              "  }\n",
              "\n",
              "  .colab-df-quickchart-complete:disabled,\n",
              "  .colab-df-quickchart-complete:disabled:hover {\n",
              "    background-color: var(--disabled-bg-color);\n",
              "    fill: var(--disabled-fill-color);\n",
              "    box-shadow: none;\n",
              "  }\n",
              "\n",
              "  .colab-df-spinner {\n",
              "    border: 2px solid var(--fill-color);\n",
              "    border-color: transparent;\n",
              "    border-bottom-color: var(--fill-color);\n",
              "    animation:\n",
              "      spin 1s steps(1) infinite;\n",
              "  }\n",
              "\n",
              "  @keyframes spin {\n",
              "    0% {\n",
              "      border-color: transparent;\n",
              "      border-bottom-color: var(--fill-color);\n",
              "      border-left-color: var(--fill-color);\n",
              "    }\n",
              "    20% {\n",
              "      border-color: transparent;\n",
              "      border-left-color: var(--fill-color);\n",
              "      border-top-color: var(--fill-color);\n",
              "    }\n",
              "    30% {\n",
              "      border-color: transparent;\n",
              "      border-left-color: var(--fill-color);\n",
              "      border-top-color: var(--fill-color);\n",
              "      border-right-color: var(--fill-color);\n",
              "    }\n",
              "    40% {\n",
              "      border-color: transparent;\n",
              "      border-right-color: var(--fill-color);\n",
              "      border-top-color: var(--fill-color);\n",
              "    }\n",
              "    60% {\n",
              "      border-color: transparent;\n",
              "      border-right-color: var(--fill-color);\n",
              "    }\n",
              "    80% {\n",
              "      border-color: transparent;\n",
              "      border-right-color: var(--fill-color);\n",
              "      border-bottom-color: var(--fill-color);\n",
              "    }\n",
              "    90% {\n",
              "      border-color: transparent;\n",
              "      border-bottom-color: var(--fill-color);\n",
              "    }\n",
              "  }\n",
              "</style>\n",
              "\n",
              "  <script>\n",
              "    async function quickchart(key) {\n",
              "      const quickchartButtonEl =\n",
              "        document.querySelector('#' + key + ' button');\n",
              "      quickchartButtonEl.disabled = true;  // To prevent multiple clicks.\n",
              "      quickchartButtonEl.classList.add('colab-df-spinner');\n",
              "      try {\n",
              "        const charts = await google.colab.kernel.invokeFunction(\n",
              "            'suggestCharts', [key], {});\n",
              "      } catch (error) {\n",
              "        console.error('Error during call to suggestCharts:', error);\n",
              "      }\n",
              "      quickchartButtonEl.classList.remove('colab-df-spinner');\n",
              "      quickchartButtonEl.classList.add('colab-df-quickchart-complete');\n",
              "    }\n",
              "    (() => {\n",
              "      let quickchartButtonEl =\n",
              "        document.querySelector('#df-eb18ec34-fee4-4c03-9c38-fea115eb3727 button');\n",
              "      quickchartButtonEl.style.display =\n",
              "        google.colab.kernel.accessAllowed ? 'block' : 'none';\n",
              "    })();\n",
              "  </script>\n",
              "</div>\n",
              "    </div>\n",
              "  </div>\n"
            ],
            "application/vnd.google.colaboratory.intrinsic+json": {
              "type": "dataframe",
              "variable_name": "df"
            }
          },
          "metadata": {},
          "execution_count": 6
        }
      ]
    },
    {
      "cell_type": "markdown",
      "source": [
        "# Предобработка данных"
      ],
      "metadata": {
        "id": "WKK_SrA8xnfb"
      }
    },
    {
      "cell_type": "code",
      "source": [
        "df.isnull().sum()"
      ],
      "metadata": {
        "colab": {
          "base_uri": "https://localhost:8080/",
          "height": 930
        },
        "id": "6DC0EJZtLmC6",
        "outputId": "40e51375-21d4-47c4-826c-c2252fa4bc36"
      },
      "execution_count": 7,
      "outputs": [
        {
          "output_type": "execute_result",
          "data": {
            "text/plain": [
              "visitID                0\n",
              "date                   0\n",
              "dateTime               0\n",
              "dateTimeUTC            0\n",
              "isNewUser              0\n",
              "startURL               0\n",
              "endURL                 0\n",
              "pageViews              0\n",
              "visitDuration          0\n",
              "bounce                 0\n",
              "regionCountry          0\n",
              "regionCity             0\n",
              "clientID               0\n",
              "counterUserIDHash      0\n",
              "referer                0\n",
              "lastTrafficSource      0\n",
              "mobilePhone            0\n",
              "operatingSystemRoot    0\n",
              "operatingSystem        0\n",
              "browser                0\n",
              "UTMCampaign            0\n",
              "UTMContent             0\n",
              "UTMMedium              0\n",
              "UTMSource              0\n",
              "UTMTerm                0\n",
              "registration_left      0\n",
              "total_regs             0\n",
              "dtype: int64"
            ],
            "text/html": [
              "<div>\n",
              "<style scoped>\n",
              "    .dataframe tbody tr th:only-of-type {\n",
              "        vertical-align: middle;\n",
              "    }\n",
              "\n",
              "    .dataframe tbody tr th {\n",
              "        vertical-align: top;\n",
              "    }\n",
              "\n",
              "    .dataframe thead th {\n",
              "        text-align: right;\n",
              "    }\n",
              "</style>\n",
              "<table border=\"1\" class=\"dataframe\">\n",
              "  <thead>\n",
              "    <tr style=\"text-align: right;\">\n",
              "      <th></th>\n",
              "      <th>0</th>\n",
              "    </tr>\n",
              "  </thead>\n",
              "  <tbody>\n",
              "    <tr>\n",
              "      <th>visitID</th>\n",
              "      <td>0</td>\n",
              "    </tr>\n",
              "    <tr>\n",
              "      <th>date</th>\n",
              "      <td>0</td>\n",
              "    </tr>\n",
              "    <tr>\n",
              "      <th>dateTime</th>\n",
              "      <td>0</td>\n",
              "    </tr>\n",
              "    <tr>\n",
              "      <th>dateTimeUTC</th>\n",
              "      <td>0</td>\n",
              "    </tr>\n",
              "    <tr>\n",
              "      <th>isNewUser</th>\n",
              "      <td>0</td>\n",
              "    </tr>\n",
              "    <tr>\n",
              "      <th>startURL</th>\n",
              "      <td>0</td>\n",
              "    </tr>\n",
              "    <tr>\n",
              "      <th>endURL</th>\n",
              "      <td>0</td>\n",
              "    </tr>\n",
              "    <tr>\n",
              "      <th>pageViews</th>\n",
              "      <td>0</td>\n",
              "    </tr>\n",
              "    <tr>\n",
              "      <th>visitDuration</th>\n",
              "      <td>0</td>\n",
              "    </tr>\n",
              "    <tr>\n",
              "      <th>bounce</th>\n",
              "      <td>0</td>\n",
              "    </tr>\n",
              "    <tr>\n",
              "      <th>regionCountry</th>\n",
              "      <td>0</td>\n",
              "    </tr>\n",
              "    <tr>\n",
              "      <th>regionCity</th>\n",
              "      <td>0</td>\n",
              "    </tr>\n",
              "    <tr>\n",
              "      <th>clientID</th>\n",
              "      <td>0</td>\n",
              "    </tr>\n",
              "    <tr>\n",
              "      <th>counterUserIDHash</th>\n",
              "      <td>0</td>\n",
              "    </tr>\n",
              "    <tr>\n",
              "      <th>referer</th>\n",
              "      <td>0</td>\n",
              "    </tr>\n",
              "    <tr>\n",
              "      <th>lastTrafficSource</th>\n",
              "      <td>0</td>\n",
              "    </tr>\n",
              "    <tr>\n",
              "      <th>mobilePhone</th>\n",
              "      <td>0</td>\n",
              "    </tr>\n",
              "    <tr>\n",
              "      <th>operatingSystemRoot</th>\n",
              "      <td>0</td>\n",
              "    </tr>\n",
              "    <tr>\n",
              "      <th>operatingSystem</th>\n",
              "      <td>0</td>\n",
              "    </tr>\n",
              "    <tr>\n",
              "      <th>browser</th>\n",
              "      <td>0</td>\n",
              "    </tr>\n",
              "    <tr>\n",
              "      <th>UTMCampaign</th>\n",
              "      <td>0</td>\n",
              "    </tr>\n",
              "    <tr>\n",
              "      <th>UTMContent</th>\n",
              "      <td>0</td>\n",
              "    </tr>\n",
              "    <tr>\n",
              "      <th>UTMMedium</th>\n",
              "      <td>0</td>\n",
              "    </tr>\n",
              "    <tr>\n",
              "      <th>UTMSource</th>\n",
              "      <td>0</td>\n",
              "    </tr>\n",
              "    <tr>\n",
              "      <th>UTMTerm</th>\n",
              "      <td>0</td>\n",
              "    </tr>\n",
              "    <tr>\n",
              "      <th>registration_left</th>\n",
              "      <td>0</td>\n",
              "    </tr>\n",
              "    <tr>\n",
              "      <th>total_regs</th>\n",
              "      <td>0</td>\n",
              "    </tr>\n",
              "  </tbody>\n",
              "</table>\n",
              "</div><br><label><b>dtype:</b> int64</label>"
            ]
          },
          "metadata": {},
          "execution_count": 7
        }
      ]
    },
    {
      "cell_type": "markdown",
      "source": [
        "В данных нет очевидных пропусков. Однако, пропуски могут быть закодированы по-другому. Проверим это дургим способом:"
      ],
      "metadata": {
        "id": "vbuc7HWOSxvy"
      }
    },
    {
      "cell_type": "code",
      "source": [
        "# Проверка на пустые строки и пробелы\n",
        "def find_hidden_nulls(df):\n",
        "    null_report = df.applymap(\n",
        "        lambda x:\n",
        "        (isinstance(x, str) and (x.strip() == \"\" or x.lower() in [\"null\", \"na\", \"none\", \"nan\"])\n",
        "    ))\n",
        "    return null_report\n",
        "\n",
        "hidden_nulls = find_hidden_nulls(df)\n",
        "print(hidden_nulls.sum())"
      ],
      "metadata": {
        "colab": {
          "base_uri": "https://localhost:8080/"
        },
        "id": "J-PK0PTwE4EO",
        "outputId": "640a0bc8-a58b-4173-9ef2-e031271868c8"
      },
      "execution_count": 8,
      "outputs": [
        {
          "output_type": "stream",
          "name": "stderr",
          "text": [
            "<ipython-input-8-5b422e7c5393>:3: FutureWarning: DataFrame.applymap has been deprecated. Use DataFrame.map instead.\n",
            "  null_report = df.applymap(\n"
          ]
        },
        {
          "output_type": "stream",
          "name": "stdout",
          "text": [
            "visitID                     0\n",
            "date                        0\n",
            "dateTime                    0\n",
            "dateTimeUTC                 0\n",
            "isNewUser                   0\n",
            "startURL                    0\n",
            "endURL                      0\n",
            "pageViews                   0\n",
            "visitDuration               0\n",
            "bounce                      0\n",
            "regionCountry            2314\n",
            "regionCity              84926\n",
            "clientID                    0\n",
            "counterUserIDHash           0\n",
            "referer                 73044\n",
            "lastTrafficSource           0\n",
            "mobilePhone            120644\n",
            "operatingSystemRoot       163\n",
            "operatingSystem           163\n",
            "browser                    15\n",
            "UTMCampaign            276527\n",
            "UTMContent             281023\n",
            "UTMMedium              276521\n",
            "UTMSource              276763\n",
            "UTMTerm                285086\n",
            "registration_left           0\n",
            "total_regs                  0\n",
            "dtype: int64\n"
          ]
        }
      ]
    },
    {
      "cell_type": "markdown",
      "source": [
        "Пропуски все-таки есть, причем видно, что пропуски именно в текстовых данных. Поэтому можно заменить их дефолтным значением \"Unknown\""
      ],
      "metadata": {
        "id": "4XzWjW41E7bL"
      }
    },
    {
      "cell_type": "code",
      "source": [
        "columns_to_fix = ['regionCountry', 'regionCity', 'referer', 'mobilePhone', 'operatingSystemRoot',\n",
        "                  'operatingSystem', 'browser', 'UTMCampaign', 'UTMContent', 'UTMMedium',\n",
        "                  'UTMSource', 'UTMTerm']\n",
        "\n",
        "for column in columns_to_fix:\n",
        "    df[column] = df[column].replace([\"\", \"null\", \"na\", \"none\", \"nan\"], \"Unknown\")"
      ],
      "metadata": {
        "id": "15JNTdmLFXWc"
      },
      "execution_count": 9,
      "outputs": []
    },
    {
      "cell_type": "markdown",
      "source": [
        "Изменим столбец dateTimeUTC, чтобы он показывал именно время UTC"
      ],
      "metadata": {
        "id": "m52Hc_ufat7l"
      }
    },
    {
      "cell_type": "code",
      "source": [
        "df['dateTimeUTC'] = df['dateTimeUTC'].dt.tz_convert('UTC')"
      ],
      "metadata": {
        "id": "oj-ocIIOZxLc"
      },
      "execution_count": 10,
      "outputs": []
    },
    {
      "cell_type": "markdown",
      "source": [
        "Заменим значения в столбце \"registration_left\" с булевых True, False на бинарные 1 и 0"
      ],
      "metadata": {
        "id": "UGuTSNpvr8KS"
      }
    },
    {
      "cell_type": "code",
      "source": [
        "df['registration_left'] = df['registration_left'].astype(int)"
      ],
      "metadata": {
        "id": "eGWJHh2lr7g0"
      },
      "execution_count": 11,
      "outputs": []
    },
    {
      "cell_type": "markdown",
      "source": [
        "### Создание новых полезных признаков"
      ],
      "metadata": {
        "id": "lETvOAbYa1ot"
      }
    },
    {
      "cell_type": "markdown",
      "source": [
        "День недели:"
      ],
      "metadata": {
        "id": "9Ra9Sl2gge5Q"
      }
    },
    {
      "cell_type": "code",
      "source": [
        "df['day_of_week_num'] = df['date'].dt.dayofweek"
      ],
      "metadata": {
        "id": "LBXCykpSUJIH"
      },
      "execution_count": 12,
      "outputs": []
    },
    {
      "cell_type": "code",
      "source": [
        "df.head()"
      ],
      "metadata": {
        "colab": {
          "base_uri": "https://localhost:8080/",
          "height": 342
        },
        "id": "YluQNxRUX9xH",
        "outputId": "74ddb907-44b2-4803-e332-8d5b268d7c96"
      },
      "execution_count": 13,
      "outputs": [
        {
          "output_type": "execute_result",
          "data": {
            "text/plain": [
              "               visitID       date                  dateTime  \\\n",
              "0  4930130390218965245 2024-08-24 2024-08-24 19:09:14+03:00   \n",
              "1  4931195681883816238 2024-08-24 2024-08-24 20:16:58+03:00   \n",
              "2  4931400781901332597 2024-08-24 2024-08-24 20:30:01+03:00   \n",
              "3  4933369587684344107 2024-08-24 2024-08-24 22:35:11+03:00   \n",
              "4  4929748909394231354 2024-08-24 2024-08-24 18:44:59+03:00   \n",
              "\n",
              "                dateTimeUTC  isNewUser  \\\n",
              "0 2024-08-24 16:09:14+00:00          1   \n",
              "1 2024-08-24 17:16:58+00:00          1   \n",
              "2 2024-08-24 17:30:01+00:00          0   \n",
              "3 2024-08-24 19:35:11+00:00          0   \n",
              "4 2024-08-24 15:44:59+00:00          1   \n",
              "\n",
              "                                            startURL  \\\n",
              "0  https://chelyabinsk.propostuplenie.ru/vuzi/chi...   \n",
              "1  https://maximumtest.ru/uchebnik/10-klass/biolo...   \n",
              "2   https://education.maximumtest.ru/student/courses   \n",
              "3  https://blog.maximumtest.ru/post/opublikovano-...   \n",
              "4  https://maximumtest.ru/uchebnik/5-klass/matema...   \n",
              "\n",
              "                                              endURL  pageViews  \\\n",
              "0  https://chelyabinsk.propostuplenie.ru/vuzi/chi...          1   \n",
              "1  https://maximumtest.ru/uchebnik/10-klass/biolo...          1   \n",
              "2   https://education.maximumtest.ru/student/courses          1   \n",
              "3  https://blog.maximumtest.ru/post/opublikovano-...          1   \n",
              "4  https://maximumtest.ru/uchebnik/5-klass/matema...          1   \n",
              "\n",
              "   visitDuration  bounce  ... operatingSystem         browser  UTMCampaign  \\\n",
              "0              0       1  ...      android_10  yandex_browser      Unknown   \n",
              "1            335       0  ...           ios17   safari_mobile      Unknown   \n",
              "2             19       0  ...       windows10          chrome      Unknown   \n",
              "3             15       0  ...      android_14    yandexsearch      Unknown   \n",
              "4              1       1  ...      android_10    chromemobile      Unknown   \n",
              "\n",
              "   UTMContent UTMMedium UTMSource  UTMTerm registration_left total_regs  \\\n",
              "0     Unknown   Unknown   Unknown  Unknown                 0          0   \n",
              "1     Unknown   Unknown   Unknown  Unknown                 0          0   \n",
              "2     Unknown   Unknown   Unknown  Unknown                 0          0   \n",
              "3     Unknown   Unknown   Unknown  Unknown                 0          0   \n",
              "4     Unknown   Unknown   Unknown  Unknown                 0          0   \n",
              "\n",
              "  day_of_week_num  \n",
              "0               5  \n",
              "1               5  \n",
              "2               5  \n",
              "3               5  \n",
              "4               5  \n",
              "\n",
              "[5 rows x 28 columns]"
            ],
            "text/html": [
              "\n",
              "  <div id=\"df-abb39fd9-cff9-463c-9dc1-2ef5f0a5d4a5\" class=\"colab-df-container\">\n",
              "    <div>\n",
              "<style scoped>\n",
              "    .dataframe tbody tr th:only-of-type {\n",
              "        vertical-align: middle;\n",
              "    }\n",
              "\n",
              "    .dataframe tbody tr th {\n",
              "        vertical-align: top;\n",
              "    }\n",
              "\n",
              "    .dataframe thead th {\n",
              "        text-align: right;\n",
              "    }\n",
              "</style>\n",
              "<table border=\"1\" class=\"dataframe\">\n",
              "  <thead>\n",
              "    <tr style=\"text-align: right;\">\n",
              "      <th></th>\n",
              "      <th>visitID</th>\n",
              "      <th>date</th>\n",
              "      <th>dateTime</th>\n",
              "      <th>dateTimeUTC</th>\n",
              "      <th>isNewUser</th>\n",
              "      <th>startURL</th>\n",
              "      <th>endURL</th>\n",
              "      <th>pageViews</th>\n",
              "      <th>visitDuration</th>\n",
              "      <th>bounce</th>\n",
              "      <th>...</th>\n",
              "      <th>operatingSystem</th>\n",
              "      <th>browser</th>\n",
              "      <th>UTMCampaign</th>\n",
              "      <th>UTMContent</th>\n",
              "      <th>UTMMedium</th>\n",
              "      <th>UTMSource</th>\n",
              "      <th>UTMTerm</th>\n",
              "      <th>registration_left</th>\n",
              "      <th>total_regs</th>\n",
              "      <th>day_of_week_num</th>\n",
              "    </tr>\n",
              "  </thead>\n",
              "  <tbody>\n",
              "    <tr>\n",
              "      <th>0</th>\n",
              "      <td>4930130390218965245</td>\n",
              "      <td>2024-08-24</td>\n",
              "      <td>2024-08-24 19:09:14+03:00</td>\n",
              "      <td>2024-08-24 16:09:14+00:00</td>\n",
              "      <td>1</td>\n",
              "      <td>https://chelyabinsk.propostuplenie.ru/vuzi/chi...</td>\n",
              "      <td>https://chelyabinsk.propostuplenie.ru/vuzi/chi...</td>\n",
              "      <td>1</td>\n",
              "      <td>0</td>\n",
              "      <td>1</td>\n",
              "      <td>...</td>\n",
              "      <td>android_10</td>\n",
              "      <td>yandex_browser</td>\n",
              "      <td>Unknown</td>\n",
              "      <td>Unknown</td>\n",
              "      <td>Unknown</td>\n",
              "      <td>Unknown</td>\n",
              "      <td>Unknown</td>\n",
              "      <td>0</td>\n",
              "      <td>0</td>\n",
              "      <td>5</td>\n",
              "    </tr>\n",
              "    <tr>\n",
              "      <th>1</th>\n",
              "      <td>4931195681883816238</td>\n",
              "      <td>2024-08-24</td>\n",
              "      <td>2024-08-24 20:16:58+03:00</td>\n",
              "      <td>2024-08-24 17:16:58+00:00</td>\n",
              "      <td>1</td>\n",
              "      <td>https://maximumtest.ru/uchebnik/10-klass/biolo...</td>\n",
              "      <td>https://maximumtest.ru/uchebnik/10-klass/biolo...</td>\n",
              "      <td>1</td>\n",
              "      <td>335</td>\n",
              "      <td>0</td>\n",
              "      <td>...</td>\n",
              "      <td>ios17</td>\n",
              "      <td>safari_mobile</td>\n",
              "      <td>Unknown</td>\n",
              "      <td>Unknown</td>\n",
              "      <td>Unknown</td>\n",
              "      <td>Unknown</td>\n",
              "      <td>Unknown</td>\n",
              "      <td>0</td>\n",
              "      <td>0</td>\n",
              "      <td>5</td>\n",
              "    </tr>\n",
              "    <tr>\n",
              "      <th>2</th>\n",
              "      <td>4931400781901332597</td>\n",
              "      <td>2024-08-24</td>\n",
              "      <td>2024-08-24 20:30:01+03:00</td>\n",
              "      <td>2024-08-24 17:30:01+00:00</td>\n",
              "      <td>0</td>\n",
              "      <td>https://education.maximumtest.ru/student/courses</td>\n",
              "      <td>https://education.maximumtest.ru/student/courses</td>\n",
              "      <td>1</td>\n",
              "      <td>19</td>\n",
              "      <td>0</td>\n",
              "      <td>...</td>\n",
              "      <td>windows10</td>\n",
              "      <td>chrome</td>\n",
              "      <td>Unknown</td>\n",
              "      <td>Unknown</td>\n",
              "      <td>Unknown</td>\n",
              "      <td>Unknown</td>\n",
              "      <td>Unknown</td>\n",
              "      <td>0</td>\n",
              "      <td>0</td>\n",
              "      <td>5</td>\n",
              "    </tr>\n",
              "    <tr>\n",
              "      <th>3</th>\n",
              "      <td>4933369587684344107</td>\n",
              "      <td>2024-08-24</td>\n",
              "      <td>2024-08-24 22:35:11+03:00</td>\n",
              "      <td>2024-08-24 19:35:11+00:00</td>\n",
              "      <td>0</td>\n",
              "      <td>https://blog.maximumtest.ru/post/opublikovano-...</td>\n",
              "      <td>https://blog.maximumtest.ru/post/opublikovano-...</td>\n",
              "      <td>1</td>\n",
              "      <td>15</td>\n",
              "      <td>0</td>\n",
              "      <td>...</td>\n",
              "      <td>android_14</td>\n",
              "      <td>yandexsearch</td>\n",
              "      <td>Unknown</td>\n",
              "      <td>Unknown</td>\n",
              "      <td>Unknown</td>\n",
              "      <td>Unknown</td>\n",
              "      <td>Unknown</td>\n",
              "      <td>0</td>\n",
              "      <td>0</td>\n",
              "      <td>5</td>\n",
              "    </tr>\n",
              "    <tr>\n",
              "      <th>4</th>\n",
              "      <td>4929748909394231354</td>\n",
              "      <td>2024-08-24</td>\n",
              "      <td>2024-08-24 18:44:59+03:00</td>\n",
              "      <td>2024-08-24 15:44:59+00:00</td>\n",
              "      <td>1</td>\n",
              "      <td>https://maximumtest.ru/uchebnik/5-klass/matema...</td>\n",
              "      <td>https://maximumtest.ru/uchebnik/5-klass/matema...</td>\n",
              "      <td>1</td>\n",
              "      <td>1</td>\n",
              "      <td>1</td>\n",
              "      <td>...</td>\n",
              "      <td>android_10</td>\n",
              "      <td>chromemobile</td>\n",
              "      <td>Unknown</td>\n",
              "      <td>Unknown</td>\n",
              "      <td>Unknown</td>\n",
              "      <td>Unknown</td>\n",
              "      <td>Unknown</td>\n",
              "      <td>0</td>\n",
              "      <td>0</td>\n",
              "      <td>5</td>\n",
              "    </tr>\n",
              "  </tbody>\n",
              "</table>\n",
              "<p>5 rows × 28 columns</p>\n",
              "</div>\n",
              "    <div class=\"colab-df-buttons\">\n",
              "\n",
              "  <div class=\"colab-df-container\">\n",
              "    <button class=\"colab-df-convert\" onclick=\"convertToInteractive('df-abb39fd9-cff9-463c-9dc1-2ef5f0a5d4a5')\"\n",
              "            title=\"Convert this dataframe to an interactive table.\"\n",
              "            style=\"display:none;\">\n",
              "\n",
              "  <svg xmlns=\"http://www.w3.org/2000/svg\" height=\"24px\" viewBox=\"0 -960 960 960\">\n",
              "    <path d=\"M120-120v-720h720v720H120Zm60-500h600v-160H180v160Zm220 220h160v-160H400v160Zm0 220h160v-160H400v160ZM180-400h160v-160H180v160Zm440 0h160v-160H620v160ZM180-180h160v-160H180v160Zm440 0h160v-160H620v160Z\"/>\n",
              "  </svg>\n",
              "    </button>\n",
              "\n",
              "  <style>\n",
              "    .colab-df-container {\n",
              "      display:flex;\n",
              "      gap: 12px;\n",
              "    }\n",
              "\n",
              "    .colab-df-convert {\n",
              "      background-color: #E8F0FE;\n",
              "      border: none;\n",
              "      border-radius: 50%;\n",
              "      cursor: pointer;\n",
              "      display: none;\n",
              "      fill: #1967D2;\n",
              "      height: 32px;\n",
              "      padding: 0 0 0 0;\n",
              "      width: 32px;\n",
              "    }\n",
              "\n",
              "    .colab-df-convert:hover {\n",
              "      background-color: #E2EBFA;\n",
              "      box-shadow: 0px 1px 2px rgba(60, 64, 67, 0.3), 0px 1px 3px 1px rgba(60, 64, 67, 0.15);\n",
              "      fill: #174EA6;\n",
              "    }\n",
              "\n",
              "    .colab-df-buttons div {\n",
              "      margin-bottom: 4px;\n",
              "    }\n",
              "\n",
              "    [theme=dark] .colab-df-convert {\n",
              "      background-color: #3B4455;\n",
              "      fill: #D2E3FC;\n",
              "    }\n",
              "\n",
              "    [theme=dark] .colab-df-convert:hover {\n",
              "      background-color: #434B5C;\n",
              "      box-shadow: 0px 1px 3px 1px rgba(0, 0, 0, 0.15);\n",
              "      filter: drop-shadow(0px 1px 2px rgba(0, 0, 0, 0.3));\n",
              "      fill: #FFFFFF;\n",
              "    }\n",
              "  </style>\n",
              "\n",
              "    <script>\n",
              "      const buttonEl =\n",
              "        document.querySelector('#df-abb39fd9-cff9-463c-9dc1-2ef5f0a5d4a5 button.colab-df-convert');\n",
              "      buttonEl.style.display =\n",
              "        google.colab.kernel.accessAllowed ? 'block' : 'none';\n",
              "\n",
              "      async function convertToInteractive(key) {\n",
              "        const element = document.querySelector('#df-abb39fd9-cff9-463c-9dc1-2ef5f0a5d4a5');\n",
              "        const dataTable =\n",
              "          await google.colab.kernel.invokeFunction('convertToInteractive',\n",
              "                                                    [key], {});\n",
              "        if (!dataTable) return;\n",
              "\n",
              "        const docLinkHtml = 'Like what you see? Visit the ' +\n",
              "          '<a target=\"_blank\" href=https://colab.research.google.com/notebooks/data_table.ipynb>data table notebook</a>'\n",
              "          + ' to learn more about interactive tables.';\n",
              "        element.innerHTML = '';\n",
              "        dataTable['output_type'] = 'display_data';\n",
              "        await google.colab.output.renderOutput(dataTable, element);\n",
              "        const docLink = document.createElement('div');\n",
              "        docLink.innerHTML = docLinkHtml;\n",
              "        element.appendChild(docLink);\n",
              "      }\n",
              "    </script>\n",
              "  </div>\n",
              "\n",
              "\n",
              "<div id=\"df-4ca202f1-16d2-48b1-8265-e8ea06ecf52e\">\n",
              "  <button class=\"colab-df-quickchart\" onclick=\"quickchart('df-4ca202f1-16d2-48b1-8265-e8ea06ecf52e')\"\n",
              "            title=\"Suggest charts\"\n",
              "            style=\"display:none;\">\n",
              "\n",
              "<svg xmlns=\"http://www.w3.org/2000/svg\" height=\"24px\"viewBox=\"0 0 24 24\"\n",
              "     width=\"24px\">\n",
              "    <g>\n",
              "        <path d=\"M19 3H5c-1.1 0-2 .9-2 2v14c0 1.1.9 2 2 2h14c1.1 0 2-.9 2-2V5c0-1.1-.9-2-2-2zM9 17H7v-7h2v7zm4 0h-2V7h2v10zm4 0h-2v-4h2v4z\"/>\n",
              "    </g>\n",
              "</svg>\n",
              "  </button>\n",
              "\n",
              "<style>\n",
              "  .colab-df-quickchart {\n",
              "      --bg-color: #E8F0FE;\n",
              "      --fill-color: #1967D2;\n",
              "      --hover-bg-color: #E2EBFA;\n",
              "      --hover-fill-color: #174EA6;\n",
              "      --disabled-fill-color: #AAA;\n",
              "      --disabled-bg-color: #DDD;\n",
              "  }\n",
              "\n",
              "  [theme=dark] .colab-df-quickchart {\n",
              "      --bg-color: #3B4455;\n",
              "      --fill-color: #D2E3FC;\n",
              "      --hover-bg-color: #434B5C;\n",
              "      --hover-fill-color: #FFFFFF;\n",
              "      --disabled-bg-color: #3B4455;\n",
              "      --disabled-fill-color: #666;\n",
              "  }\n",
              "\n",
              "  .colab-df-quickchart {\n",
              "    background-color: var(--bg-color);\n",
              "    border: none;\n",
              "    border-radius: 50%;\n",
              "    cursor: pointer;\n",
              "    display: none;\n",
              "    fill: var(--fill-color);\n",
              "    height: 32px;\n",
              "    padding: 0;\n",
              "    width: 32px;\n",
              "  }\n",
              "\n",
              "  .colab-df-quickchart:hover {\n",
              "    background-color: var(--hover-bg-color);\n",
              "    box-shadow: 0 1px 2px rgba(60, 64, 67, 0.3), 0 1px 3px 1px rgba(60, 64, 67, 0.15);\n",
              "    fill: var(--button-hover-fill-color);\n",
              "  }\n",
              "\n",
              "  .colab-df-quickchart-complete:disabled,\n",
              "  .colab-df-quickchart-complete:disabled:hover {\n",
              "    background-color: var(--disabled-bg-color);\n",
              "    fill: var(--disabled-fill-color);\n",
              "    box-shadow: none;\n",
              "  }\n",
              "\n",
              "  .colab-df-spinner {\n",
              "    border: 2px solid var(--fill-color);\n",
              "    border-color: transparent;\n",
              "    border-bottom-color: var(--fill-color);\n",
              "    animation:\n",
              "      spin 1s steps(1) infinite;\n",
              "  }\n",
              "\n",
              "  @keyframes spin {\n",
              "    0% {\n",
              "      border-color: transparent;\n",
              "      border-bottom-color: var(--fill-color);\n",
              "      border-left-color: var(--fill-color);\n",
              "    }\n",
              "    20% {\n",
              "      border-color: transparent;\n",
              "      border-left-color: var(--fill-color);\n",
              "      border-top-color: var(--fill-color);\n",
              "    }\n",
              "    30% {\n",
              "      border-color: transparent;\n",
              "      border-left-color: var(--fill-color);\n",
              "      border-top-color: var(--fill-color);\n",
              "      border-right-color: var(--fill-color);\n",
              "    }\n",
              "    40% {\n",
              "      border-color: transparent;\n",
              "      border-right-color: var(--fill-color);\n",
              "      border-top-color: var(--fill-color);\n",
              "    }\n",
              "    60% {\n",
              "      border-color: transparent;\n",
              "      border-right-color: var(--fill-color);\n",
              "    }\n",
              "    80% {\n",
              "      border-color: transparent;\n",
              "      border-right-color: var(--fill-color);\n",
              "      border-bottom-color: var(--fill-color);\n",
              "    }\n",
              "    90% {\n",
              "      border-color: transparent;\n",
              "      border-bottom-color: var(--fill-color);\n",
              "    }\n",
              "  }\n",
              "</style>\n",
              "\n",
              "  <script>\n",
              "    async function quickchart(key) {\n",
              "      const quickchartButtonEl =\n",
              "        document.querySelector('#' + key + ' button');\n",
              "      quickchartButtonEl.disabled = true;  // To prevent multiple clicks.\n",
              "      quickchartButtonEl.classList.add('colab-df-spinner');\n",
              "      try {\n",
              "        const charts = await google.colab.kernel.invokeFunction(\n",
              "            'suggestCharts', [key], {});\n",
              "      } catch (error) {\n",
              "        console.error('Error during call to suggestCharts:', error);\n",
              "      }\n",
              "      quickchartButtonEl.classList.remove('colab-df-spinner');\n",
              "      quickchartButtonEl.classList.add('colab-df-quickchart-complete');\n",
              "    }\n",
              "    (() => {\n",
              "      let quickchartButtonEl =\n",
              "        document.querySelector('#df-4ca202f1-16d2-48b1-8265-e8ea06ecf52e button');\n",
              "      quickchartButtonEl.style.display =\n",
              "        google.colab.kernel.accessAllowed ? 'block' : 'none';\n",
              "    })();\n",
              "  </script>\n",
              "</div>\n",
              "    </div>\n",
              "  </div>\n"
            ],
            "application/vnd.google.colaboratory.intrinsic+json": {
              "type": "dataframe",
              "variable_name": "df"
            }
          },
          "metadata": {},
          "execution_count": 13
        }
      ]
    },
    {
      "cell_type": "code",
      "source": [
        "df['day_of_week_num'] = df['day_of_week_num'] + 1\n",
        "df.head()"
      ],
      "metadata": {
        "colab": {
          "base_uri": "https://localhost:8080/",
          "height": 342
        },
        "id": "1i-zEZAnX_ka",
        "outputId": "e8aea60c-3429-445b-c083-c9f311576824"
      },
      "execution_count": 14,
      "outputs": [
        {
          "output_type": "execute_result",
          "data": {
            "text/plain": [
              "               visitID       date                  dateTime  \\\n",
              "0  4930130390218965245 2024-08-24 2024-08-24 19:09:14+03:00   \n",
              "1  4931195681883816238 2024-08-24 2024-08-24 20:16:58+03:00   \n",
              "2  4931400781901332597 2024-08-24 2024-08-24 20:30:01+03:00   \n",
              "3  4933369587684344107 2024-08-24 2024-08-24 22:35:11+03:00   \n",
              "4  4929748909394231354 2024-08-24 2024-08-24 18:44:59+03:00   \n",
              "\n",
              "                dateTimeUTC  isNewUser  \\\n",
              "0 2024-08-24 16:09:14+00:00          1   \n",
              "1 2024-08-24 17:16:58+00:00          1   \n",
              "2 2024-08-24 17:30:01+00:00          0   \n",
              "3 2024-08-24 19:35:11+00:00          0   \n",
              "4 2024-08-24 15:44:59+00:00          1   \n",
              "\n",
              "                                            startURL  \\\n",
              "0  https://chelyabinsk.propostuplenie.ru/vuzi/chi...   \n",
              "1  https://maximumtest.ru/uchebnik/10-klass/biolo...   \n",
              "2   https://education.maximumtest.ru/student/courses   \n",
              "3  https://blog.maximumtest.ru/post/opublikovano-...   \n",
              "4  https://maximumtest.ru/uchebnik/5-klass/matema...   \n",
              "\n",
              "                                              endURL  pageViews  \\\n",
              "0  https://chelyabinsk.propostuplenie.ru/vuzi/chi...          1   \n",
              "1  https://maximumtest.ru/uchebnik/10-klass/biolo...          1   \n",
              "2   https://education.maximumtest.ru/student/courses          1   \n",
              "3  https://blog.maximumtest.ru/post/opublikovano-...          1   \n",
              "4  https://maximumtest.ru/uchebnik/5-klass/matema...          1   \n",
              "\n",
              "   visitDuration  bounce  ... operatingSystem         browser  UTMCampaign  \\\n",
              "0              0       1  ...      android_10  yandex_browser      Unknown   \n",
              "1            335       0  ...           ios17   safari_mobile      Unknown   \n",
              "2             19       0  ...       windows10          chrome      Unknown   \n",
              "3             15       0  ...      android_14    yandexsearch      Unknown   \n",
              "4              1       1  ...      android_10    chromemobile      Unknown   \n",
              "\n",
              "   UTMContent UTMMedium UTMSource  UTMTerm registration_left total_regs  \\\n",
              "0     Unknown   Unknown   Unknown  Unknown                 0          0   \n",
              "1     Unknown   Unknown   Unknown  Unknown                 0          0   \n",
              "2     Unknown   Unknown   Unknown  Unknown                 0          0   \n",
              "3     Unknown   Unknown   Unknown  Unknown                 0          0   \n",
              "4     Unknown   Unknown   Unknown  Unknown                 0          0   \n",
              "\n",
              "  day_of_week_num  \n",
              "0               6  \n",
              "1               6  \n",
              "2               6  \n",
              "3               6  \n",
              "4               6  \n",
              "\n",
              "[5 rows x 28 columns]"
            ],
            "text/html": [
              "\n",
              "  <div id=\"df-d06431b8-f141-46f7-b716-8857af60f9ef\" class=\"colab-df-container\">\n",
              "    <div>\n",
              "<style scoped>\n",
              "    .dataframe tbody tr th:only-of-type {\n",
              "        vertical-align: middle;\n",
              "    }\n",
              "\n",
              "    .dataframe tbody tr th {\n",
              "        vertical-align: top;\n",
              "    }\n",
              "\n",
              "    .dataframe thead th {\n",
              "        text-align: right;\n",
              "    }\n",
              "</style>\n",
              "<table border=\"1\" class=\"dataframe\">\n",
              "  <thead>\n",
              "    <tr style=\"text-align: right;\">\n",
              "      <th></th>\n",
              "      <th>visitID</th>\n",
              "      <th>date</th>\n",
              "      <th>dateTime</th>\n",
              "      <th>dateTimeUTC</th>\n",
              "      <th>isNewUser</th>\n",
              "      <th>startURL</th>\n",
              "      <th>endURL</th>\n",
              "      <th>pageViews</th>\n",
              "      <th>visitDuration</th>\n",
              "      <th>bounce</th>\n",
              "      <th>...</th>\n",
              "      <th>operatingSystem</th>\n",
              "      <th>browser</th>\n",
              "      <th>UTMCampaign</th>\n",
              "      <th>UTMContent</th>\n",
              "      <th>UTMMedium</th>\n",
              "      <th>UTMSource</th>\n",
              "      <th>UTMTerm</th>\n",
              "      <th>registration_left</th>\n",
              "      <th>total_regs</th>\n",
              "      <th>day_of_week_num</th>\n",
              "    </tr>\n",
              "  </thead>\n",
              "  <tbody>\n",
              "    <tr>\n",
              "      <th>0</th>\n",
              "      <td>4930130390218965245</td>\n",
              "      <td>2024-08-24</td>\n",
              "      <td>2024-08-24 19:09:14+03:00</td>\n",
              "      <td>2024-08-24 16:09:14+00:00</td>\n",
              "      <td>1</td>\n",
              "      <td>https://chelyabinsk.propostuplenie.ru/vuzi/chi...</td>\n",
              "      <td>https://chelyabinsk.propostuplenie.ru/vuzi/chi...</td>\n",
              "      <td>1</td>\n",
              "      <td>0</td>\n",
              "      <td>1</td>\n",
              "      <td>...</td>\n",
              "      <td>android_10</td>\n",
              "      <td>yandex_browser</td>\n",
              "      <td>Unknown</td>\n",
              "      <td>Unknown</td>\n",
              "      <td>Unknown</td>\n",
              "      <td>Unknown</td>\n",
              "      <td>Unknown</td>\n",
              "      <td>0</td>\n",
              "      <td>0</td>\n",
              "      <td>6</td>\n",
              "    </tr>\n",
              "    <tr>\n",
              "      <th>1</th>\n",
              "      <td>4931195681883816238</td>\n",
              "      <td>2024-08-24</td>\n",
              "      <td>2024-08-24 20:16:58+03:00</td>\n",
              "      <td>2024-08-24 17:16:58+00:00</td>\n",
              "      <td>1</td>\n",
              "      <td>https://maximumtest.ru/uchebnik/10-klass/biolo...</td>\n",
              "      <td>https://maximumtest.ru/uchebnik/10-klass/biolo...</td>\n",
              "      <td>1</td>\n",
              "      <td>335</td>\n",
              "      <td>0</td>\n",
              "      <td>...</td>\n",
              "      <td>ios17</td>\n",
              "      <td>safari_mobile</td>\n",
              "      <td>Unknown</td>\n",
              "      <td>Unknown</td>\n",
              "      <td>Unknown</td>\n",
              "      <td>Unknown</td>\n",
              "      <td>Unknown</td>\n",
              "      <td>0</td>\n",
              "      <td>0</td>\n",
              "      <td>6</td>\n",
              "    </tr>\n",
              "    <tr>\n",
              "      <th>2</th>\n",
              "      <td>4931400781901332597</td>\n",
              "      <td>2024-08-24</td>\n",
              "      <td>2024-08-24 20:30:01+03:00</td>\n",
              "      <td>2024-08-24 17:30:01+00:00</td>\n",
              "      <td>0</td>\n",
              "      <td>https://education.maximumtest.ru/student/courses</td>\n",
              "      <td>https://education.maximumtest.ru/student/courses</td>\n",
              "      <td>1</td>\n",
              "      <td>19</td>\n",
              "      <td>0</td>\n",
              "      <td>...</td>\n",
              "      <td>windows10</td>\n",
              "      <td>chrome</td>\n",
              "      <td>Unknown</td>\n",
              "      <td>Unknown</td>\n",
              "      <td>Unknown</td>\n",
              "      <td>Unknown</td>\n",
              "      <td>Unknown</td>\n",
              "      <td>0</td>\n",
              "      <td>0</td>\n",
              "      <td>6</td>\n",
              "    </tr>\n",
              "    <tr>\n",
              "      <th>3</th>\n",
              "      <td>4933369587684344107</td>\n",
              "      <td>2024-08-24</td>\n",
              "      <td>2024-08-24 22:35:11+03:00</td>\n",
              "      <td>2024-08-24 19:35:11+00:00</td>\n",
              "      <td>0</td>\n",
              "      <td>https://blog.maximumtest.ru/post/opublikovano-...</td>\n",
              "      <td>https://blog.maximumtest.ru/post/opublikovano-...</td>\n",
              "      <td>1</td>\n",
              "      <td>15</td>\n",
              "      <td>0</td>\n",
              "      <td>...</td>\n",
              "      <td>android_14</td>\n",
              "      <td>yandexsearch</td>\n",
              "      <td>Unknown</td>\n",
              "      <td>Unknown</td>\n",
              "      <td>Unknown</td>\n",
              "      <td>Unknown</td>\n",
              "      <td>Unknown</td>\n",
              "      <td>0</td>\n",
              "      <td>0</td>\n",
              "      <td>6</td>\n",
              "    </tr>\n",
              "    <tr>\n",
              "      <th>4</th>\n",
              "      <td>4929748909394231354</td>\n",
              "      <td>2024-08-24</td>\n",
              "      <td>2024-08-24 18:44:59+03:00</td>\n",
              "      <td>2024-08-24 15:44:59+00:00</td>\n",
              "      <td>1</td>\n",
              "      <td>https://maximumtest.ru/uchebnik/5-klass/matema...</td>\n",
              "      <td>https://maximumtest.ru/uchebnik/5-klass/matema...</td>\n",
              "      <td>1</td>\n",
              "      <td>1</td>\n",
              "      <td>1</td>\n",
              "      <td>...</td>\n",
              "      <td>android_10</td>\n",
              "      <td>chromemobile</td>\n",
              "      <td>Unknown</td>\n",
              "      <td>Unknown</td>\n",
              "      <td>Unknown</td>\n",
              "      <td>Unknown</td>\n",
              "      <td>Unknown</td>\n",
              "      <td>0</td>\n",
              "      <td>0</td>\n",
              "      <td>6</td>\n",
              "    </tr>\n",
              "  </tbody>\n",
              "</table>\n",
              "<p>5 rows × 28 columns</p>\n",
              "</div>\n",
              "    <div class=\"colab-df-buttons\">\n",
              "\n",
              "  <div class=\"colab-df-container\">\n",
              "    <button class=\"colab-df-convert\" onclick=\"convertToInteractive('df-d06431b8-f141-46f7-b716-8857af60f9ef')\"\n",
              "            title=\"Convert this dataframe to an interactive table.\"\n",
              "            style=\"display:none;\">\n",
              "\n",
              "  <svg xmlns=\"http://www.w3.org/2000/svg\" height=\"24px\" viewBox=\"0 -960 960 960\">\n",
              "    <path d=\"M120-120v-720h720v720H120Zm60-500h600v-160H180v160Zm220 220h160v-160H400v160Zm0 220h160v-160H400v160ZM180-400h160v-160H180v160Zm440 0h160v-160H620v160ZM180-180h160v-160H180v160Zm440 0h160v-160H620v160Z\"/>\n",
              "  </svg>\n",
              "    </button>\n",
              "\n",
              "  <style>\n",
              "    .colab-df-container {\n",
              "      display:flex;\n",
              "      gap: 12px;\n",
              "    }\n",
              "\n",
              "    .colab-df-convert {\n",
              "      background-color: #E8F0FE;\n",
              "      border: none;\n",
              "      border-radius: 50%;\n",
              "      cursor: pointer;\n",
              "      display: none;\n",
              "      fill: #1967D2;\n",
              "      height: 32px;\n",
              "      padding: 0 0 0 0;\n",
              "      width: 32px;\n",
              "    }\n",
              "\n",
              "    .colab-df-convert:hover {\n",
              "      background-color: #E2EBFA;\n",
              "      box-shadow: 0px 1px 2px rgba(60, 64, 67, 0.3), 0px 1px 3px 1px rgba(60, 64, 67, 0.15);\n",
              "      fill: #174EA6;\n",
              "    }\n",
              "\n",
              "    .colab-df-buttons div {\n",
              "      margin-bottom: 4px;\n",
              "    }\n",
              "\n",
              "    [theme=dark] .colab-df-convert {\n",
              "      background-color: #3B4455;\n",
              "      fill: #D2E3FC;\n",
              "    }\n",
              "\n",
              "    [theme=dark] .colab-df-convert:hover {\n",
              "      background-color: #434B5C;\n",
              "      box-shadow: 0px 1px 3px 1px rgba(0, 0, 0, 0.15);\n",
              "      filter: drop-shadow(0px 1px 2px rgba(0, 0, 0, 0.3));\n",
              "      fill: #FFFFFF;\n",
              "    }\n",
              "  </style>\n",
              "\n",
              "    <script>\n",
              "      const buttonEl =\n",
              "        document.querySelector('#df-d06431b8-f141-46f7-b716-8857af60f9ef button.colab-df-convert');\n",
              "      buttonEl.style.display =\n",
              "        google.colab.kernel.accessAllowed ? 'block' : 'none';\n",
              "\n",
              "      async function convertToInteractive(key) {\n",
              "        const element = document.querySelector('#df-d06431b8-f141-46f7-b716-8857af60f9ef');\n",
              "        const dataTable =\n",
              "          await google.colab.kernel.invokeFunction('convertToInteractive',\n",
              "                                                    [key], {});\n",
              "        if (!dataTable) return;\n",
              "\n",
              "        const docLinkHtml = 'Like what you see? Visit the ' +\n",
              "          '<a target=\"_blank\" href=https://colab.research.google.com/notebooks/data_table.ipynb>data table notebook</a>'\n",
              "          + ' to learn more about interactive tables.';\n",
              "        element.innerHTML = '';\n",
              "        dataTable['output_type'] = 'display_data';\n",
              "        await google.colab.output.renderOutput(dataTable, element);\n",
              "        const docLink = document.createElement('div');\n",
              "        docLink.innerHTML = docLinkHtml;\n",
              "        element.appendChild(docLink);\n",
              "      }\n",
              "    </script>\n",
              "  </div>\n",
              "\n",
              "\n",
              "<div id=\"df-78e03500-d823-4b72-b7df-6442a2f52d2f\">\n",
              "  <button class=\"colab-df-quickchart\" onclick=\"quickchart('df-78e03500-d823-4b72-b7df-6442a2f52d2f')\"\n",
              "            title=\"Suggest charts\"\n",
              "            style=\"display:none;\">\n",
              "\n",
              "<svg xmlns=\"http://www.w3.org/2000/svg\" height=\"24px\"viewBox=\"0 0 24 24\"\n",
              "     width=\"24px\">\n",
              "    <g>\n",
              "        <path d=\"M19 3H5c-1.1 0-2 .9-2 2v14c0 1.1.9 2 2 2h14c1.1 0 2-.9 2-2V5c0-1.1-.9-2-2-2zM9 17H7v-7h2v7zm4 0h-2V7h2v10zm4 0h-2v-4h2v4z\"/>\n",
              "    </g>\n",
              "</svg>\n",
              "  </button>\n",
              "\n",
              "<style>\n",
              "  .colab-df-quickchart {\n",
              "      --bg-color: #E8F0FE;\n",
              "      --fill-color: #1967D2;\n",
              "      --hover-bg-color: #E2EBFA;\n",
              "      --hover-fill-color: #174EA6;\n",
              "      --disabled-fill-color: #AAA;\n",
              "      --disabled-bg-color: #DDD;\n",
              "  }\n",
              "\n",
              "  [theme=dark] .colab-df-quickchart {\n",
              "      --bg-color: #3B4455;\n",
              "      --fill-color: #D2E3FC;\n",
              "      --hover-bg-color: #434B5C;\n",
              "      --hover-fill-color: #FFFFFF;\n",
              "      --disabled-bg-color: #3B4455;\n",
              "      --disabled-fill-color: #666;\n",
              "  }\n",
              "\n",
              "  .colab-df-quickchart {\n",
              "    background-color: var(--bg-color);\n",
              "    border: none;\n",
              "    border-radius: 50%;\n",
              "    cursor: pointer;\n",
              "    display: none;\n",
              "    fill: var(--fill-color);\n",
              "    height: 32px;\n",
              "    padding: 0;\n",
              "    width: 32px;\n",
              "  }\n",
              "\n",
              "  .colab-df-quickchart:hover {\n",
              "    background-color: var(--hover-bg-color);\n",
              "    box-shadow: 0 1px 2px rgba(60, 64, 67, 0.3), 0 1px 3px 1px rgba(60, 64, 67, 0.15);\n",
              "    fill: var(--button-hover-fill-color);\n",
              "  }\n",
              "\n",
              "  .colab-df-quickchart-complete:disabled,\n",
              "  .colab-df-quickchart-complete:disabled:hover {\n",
              "    background-color: var(--disabled-bg-color);\n",
              "    fill: var(--disabled-fill-color);\n",
              "    box-shadow: none;\n",
              "  }\n",
              "\n",
              "  .colab-df-spinner {\n",
              "    border: 2px solid var(--fill-color);\n",
              "    border-color: transparent;\n",
              "    border-bottom-color: var(--fill-color);\n",
              "    animation:\n",
              "      spin 1s steps(1) infinite;\n",
              "  }\n",
              "\n",
              "  @keyframes spin {\n",
              "    0% {\n",
              "      border-color: transparent;\n",
              "      border-bottom-color: var(--fill-color);\n",
              "      border-left-color: var(--fill-color);\n",
              "    }\n",
              "    20% {\n",
              "      border-color: transparent;\n",
              "      border-left-color: var(--fill-color);\n",
              "      border-top-color: var(--fill-color);\n",
              "    }\n",
              "    30% {\n",
              "      border-color: transparent;\n",
              "      border-left-color: var(--fill-color);\n",
              "      border-top-color: var(--fill-color);\n",
              "      border-right-color: var(--fill-color);\n",
              "    }\n",
              "    40% {\n",
              "      border-color: transparent;\n",
              "      border-right-color: var(--fill-color);\n",
              "      border-top-color: var(--fill-color);\n",
              "    }\n",
              "    60% {\n",
              "      border-color: transparent;\n",
              "      border-right-color: var(--fill-color);\n",
              "    }\n",
              "    80% {\n",
              "      border-color: transparent;\n",
              "      border-right-color: var(--fill-color);\n",
              "      border-bottom-color: var(--fill-color);\n",
              "    }\n",
              "    90% {\n",
              "      border-color: transparent;\n",
              "      border-bottom-color: var(--fill-color);\n",
              "    }\n",
              "  }\n",
              "</style>\n",
              "\n",
              "  <script>\n",
              "    async function quickchart(key) {\n",
              "      const quickchartButtonEl =\n",
              "        document.querySelector('#' + key + ' button');\n",
              "      quickchartButtonEl.disabled = true;  // To prevent multiple clicks.\n",
              "      quickchartButtonEl.classList.add('colab-df-spinner');\n",
              "      try {\n",
              "        const charts = await google.colab.kernel.invokeFunction(\n",
              "            'suggestCharts', [key], {});\n",
              "      } catch (error) {\n",
              "        console.error('Error during call to suggestCharts:', error);\n",
              "      }\n",
              "      quickchartButtonEl.classList.remove('colab-df-spinner');\n",
              "      quickchartButtonEl.classList.add('colab-df-quickchart-complete');\n",
              "    }\n",
              "    (() => {\n",
              "      let quickchartButtonEl =\n",
              "        document.querySelector('#df-78e03500-d823-4b72-b7df-6442a2f52d2f button');\n",
              "      quickchartButtonEl.style.display =\n",
              "        google.colab.kernel.accessAllowed ? 'block' : 'none';\n",
              "    })();\n",
              "  </script>\n",
              "</div>\n",
              "    </div>\n",
              "  </div>\n"
            ],
            "application/vnd.google.colaboratory.intrinsic+json": {
              "type": "dataframe",
              "variable_name": "df"
            }
          },
          "metadata": {},
          "execution_count": 14
        }
      ]
    },
    {
      "cell_type": "markdown",
      "source": [
        "Выходной:"
      ],
      "metadata": {
        "id": "40N1kciFKDub"
      }
    },
    {
      "cell_type": "code",
      "source": [
        "df['IsWeekend'] = df['day_of_week_num'].isin([6, 7])\n",
        "df.head()"
      ],
      "metadata": {
        "colab": {
          "base_uri": "https://localhost:8080/",
          "height": 342
        },
        "id": "FMP8LQ5OKDcU",
        "outputId": "b660f81e-cdb1-40e0-cf9c-3c6a413e6736"
      },
      "execution_count": 15,
      "outputs": [
        {
          "output_type": "execute_result",
          "data": {
            "text/plain": [
              "               visitID       date                  dateTime  \\\n",
              "0  4930130390218965245 2024-08-24 2024-08-24 19:09:14+03:00   \n",
              "1  4931195681883816238 2024-08-24 2024-08-24 20:16:58+03:00   \n",
              "2  4931400781901332597 2024-08-24 2024-08-24 20:30:01+03:00   \n",
              "3  4933369587684344107 2024-08-24 2024-08-24 22:35:11+03:00   \n",
              "4  4929748909394231354 2024-08-24 2024-08-24 18:44:59+03:00   \n",
              "\n",
              "                dateTimeUTC  isNewUser  \\\n",
              "0 2024-08-24 16:09:14+00:00          1   \n",
              "1 2024-08-24 17:16:58+00:00          1   \n",
              "2 2024-08-24 17:30:01+00:00          0   \n",
              "3 2024-08-24 19:35:11+00:00          0   \n",
              "4 2024-08-24 15:44:59+00:00          1   \n",
              "\n",
              "                                            startURL  \\\n",
              "0  https://chelyabinsk.propostuplenie.ru/vuzi/chi...   \n",
              "1  https://maximumtest.ru/uchebnik/10-klass/biolo...   \n",
              "2   https://education.maximumtest.ru/student/courses   \n",
              "3  https://blog.maximumtest.ru/post/opublikovano-...   \n",
              "4  https://maximumtest.ru/uchebnik/5-klass/matema...   \n",
              "\n",
              "                                              endURL  pageViews  \\\n",
              "0  https://chelyabinsk.propostuplenie.ru/vuzi/chi...          1   \n",
              "1  https://maximumtest.ru/uchebnik/10-klass/biolo...          1   \n",
              "2   https://education.maximumtest.ru/student/courses          1   \n",
              "3  https://blog.maximumtest.ru/post/opublikovano-...          1   \n",
              "4  https://maximumtest.ru/uchebnik/5-klass/matema...          1   \n",
              "\n",
              "   visitDuration  bounce  ...         browser UTMCampaign  UTMContent  \\\n",
              "0              0       1  ...  yandex_browser     Unknown     Unknown   \n",
              "1            335       0  ...   safari_mobile     Unknown     Unknown   \n",
              "2             19       0  ...          chrome     Unknown     Unknown   \n",
              "3             15       0  ...    yandexsearch     Unknown     Unknown   \n",
              "4              1       1  ...    chromemobile     Unknown     Unknown   \n",
              "\n",
              "   UTMMedium UTMSource  UTMTerm registration_left total_regs day_of_week_num  \\\n",
              "0    Unknown   Unknown  Unknown                 0          0               6   \n",
              "1    Unknown   Unknown  Unknown                 0          0               6   \n",
              "2    Unknown   Unknown  Unknown                 0          0               6   \n",
              "3    Unknown   Unknown  Unknown                 0          0               6   \n",
              "4    Unknown   Unknown  Unknown                 0          0               6   \n",
              "\n",
              "  IsWeekend  \n",
              "0      True  \n",
              "1      True  \n",
              "2      True  \n",
              "3      True  \n",
              "4      True  \n",
              "\n",
              "[5 rows x 29 columns]"
            ],
            "text/html": [
              "\n",
              "  <div id=\"df-0a95d374-78f6-489a-be1d-d4572181df63\" class=\"colab-df-container\">\n",
              "    <div>\n",
              "<style scoped>\n",
              "    .dataframe tbody tr th:only-of-type {\n",
              "        vertical-align: middle;\n",
              "    }\n",
              "\n",
              "    .dataframe tbody tr th {\n",
              "        vertical-align: top;\n",
              "    }\n",
              "\n",
              "    .dataframe thead th {\n",
              "        text-align: right;\n",
              "    }\n",
              "</style>\n",
              "<table border=\"1\" class=\"dataframe\">\n",
              "  <thead>\n",
              "    <tr style=\"text-align: right;\">\n",
              "      <th></th>\n",
              "      <th>visitID</th>\n",
              "      <th>date</th>\n",
              "      <th>dateTime</th>\n",
              "      <th>dateTimeUTC</th>\n",
              "      <th>isNewUser</th>\n",
              "      <th>startURL</th>\n",
              "      <th>endURL</th>\n",
              "      <th>pageViews</th>\n",
              "      <th>visitDuration</th>\n",
              "      <th>bounce</th>\n",
              "      <th>...</th>\n",
              "      <th>browser</th>\n",
              "      <th>UTMCampaign</th>\n",
              "      <th>UTMContent</th>\n",
              "      <th>UTMMedium</th>\n",
              "      <th>UTMSource</th>\n",
              "      <th>UTMTerm</th>\n",
              "      <th>registration_left</th>\n",
              "      <th>total_regs</th>\n",
              "      <th>day_of_week_num</th>\n",
              "      <th>IsWeekend</th>\n",
              "    </tr>\n",
              "  </thead>\n",
              "  <tbody>\n",
              "    <tr>\n",
              "      <th>0</th>\n",
              "      <td>4930130390218965245</td>\n",
              "      <td>2024-08-24</td>\n",
              "      <td>2024-08-24 19:09:14+03:00</td>\n",
              "      <td>2024-08-24 16:09:14+00:00</td>\n",
              "      <td>1</td>\n",
              "      <td>https://chelyabinsk.propostuplenie.ru/vuzi/chi...</td>\n",
              "      <td>https://chelyabinsk.propostuplenie.ru/vuzi/chi...</td>\n",
              "      <td>1</td>\n",
              "      <td>0</td>\n",
              "      <td>1</td>\n",
              "      <td>...</td>\n",
              "      <td>yandex_browser</td>\n",
              "      <td>Unknown</td>\n",
              "      <td>Unknown</td>\n",
              "      <td>Unknown</td>\n",
              "      <td>Unknown</td>\n",
              "      <td>Unknown</td>\n",
              "      <td>0</td>\n",
              "      <td>0</td>\n",
              "      <td>6</td>\n",
              "      <td>True</td>\n",
              "    </tr>\n",
              "    <tr>\n",
              "      <th>1</th>\n",
              "      <td>4931195681883816238</td>\n",
              "      <td>2024-08-24</td>\n",
              "      <td>2024-08-24 20:16:58+03:00</td>\n",
              "      <td>2024-08-24 17:16:58+00:00</td>\n",
              "      <td>1</td>\n",
              "      <td>https://maximumtest.ru/uchebnik/10-klass/biolo...</td>\n",
              "      <td>https://maximumtest.ru/uchebnik/10-klass/biolo...</td>\n",
              "      <td>1</td>\n",
              "      <td>335</td>\n",
              "      <td>0</td>\n",
              "      <td>...</td>\n",
              "      <td>safari_mobile</td>\n",
              "      <td>Unknown</td>\n",
              "      <td>Unknown</td>\n",
              "      <td>Unknown</td>\n",
              "      <td>Unknown</td>\n",
              "      <td>Unknown</td>\n",
              "      <td>0</td>\n",
              "      <td>0</td>\n",
              "      <td>6</td>\n",
              "      <td>True</td>\n",
              "    </tr>\n",
              "    <tr>\n",
              "      <th>2</th>\n",
              "      <td>4931400781901332597</td>\n",
              "      <td>2024-08-24</td>\n",
              "      <td>2024-08-24 20:30:01+03:00</td>\n",
              "      <td>2024-08-24 17:30:01+00:00</td>\n",
              "      <td>0</td>\n",
              "      <td>https://education.maximumtest.ru/student/courses</td>\n",
              "      <td>https://education.maximumtest.ru/student/courses</td>\n",
              "      <td>1</td>\n",
              "      <td>19</td>\n",
              "      <td>0</td>\n",
              "      <td>...</td>\n",
              "      <td>chrome</td>\n",
              "      <td>Unknown</td>\n",
              "      <td>Unknown</td>\n",
              "      <td>Unknown</td>\n",
              "      <td>Unknown</td>\n",
              "      <td>Unknown</td>\n",
              "      <td>0</td>\n",
              "      <td>0</td>\n",
              "      <td>6</td>\n",
              "      <td>True</td>\n",
              "    </tr>\n",
              "    <tr>\n",
              "      <th>3</th>\n",
              "      <td>4933369587684344107</td>\n",
              "      <td>2024-08-24</td>\n",
              "      <td>2024-08-24 22:35:11+03:00</td>\n",
              "      <td>2024-08-24 19:35:11+00:00</td>\n",
              "      <td>0</td>\n",
              "      <td>https://blog.maximumtest.ru/post/opublikovano-...</td>\n",
              "      <td>https://blog.maximumtest.ru/post/opublikovano-...</td>\n",
              "      <td>1</td>\n",
              "      <td>15</td>\n",
              "      <td>0</td>\n",
              "      <td>...</td>\n",
              "      <td>yandexsearch</td>\n",
              "      <td>Unknown</td>\n",
              "      <td>Unknown</td>\n",
              "      <td>Unknown</td>\n",
              "      <td>Unknown</td>\n",
              "      <td>Unknown</td>\n",
              "      <td>0</td>\n",
              "      <td>0</td>\n",
              "      <td>6</td>\n",
              "      <td>True</td>\n",
              "    </tr>\n",
              "    <tr>\n",
              "      <th>4</th>\n",
              "      <td>4929748909394231354</td>\n",
              "      <td>2024-08-24</td>\n",
              "      <td>2024-08-24 18:44:59+03:00</td>\n",
              "      <td>2024-08-24 15:44:59+00:00</td>\n",
              "      <td>1</td>\n",
              "      <td>https://maximumtest.ru/uchebnik/5-klass/matema...</td>\n",
              "      <td>https://maximumtest.ru/uchebnik/5-klass/matema...</td>\n",
              "      <td>1</td>\n",
              "      <td>1</td>\n",
              "      <td>1</td>\n",
              "      <td>...</td>\n",
              "      <td>chromemobile</td>\n",
              "      <td>Unknown</td>\n",
              "      <td>Unknown</td>\n",
              "      <td>Unknown</td>\n",
              "      <td>Unknown</td>\n",
              "      <td>Unknown</td>\n",
              "      <td>0</td>\n",
              "      <td>0</td>\n",
              "      <td>6</td>\n",
              "      <td>True</td>\n",
              "    </tr>\n",
              "  </tbody>\n",
              "</table>\n",
              "<p>5 rows × 29 columns</p>\n",
              "</div>\n",
              "    <div class=\"colab-df-buttons\">\n",
              "\n",
              "  <div class=\"colab-df-container\">\n",
              "    <button class=\"colab-df-convert\" onclick=\"convertToInteractive('df-0a95d374-78f6-489a-be1d-d4572181df63')\"\n",
              "            title=\"Convert this dataframe to an interactive table.\"\n",
              "            style=\"display:none;\">\n",
              "\n",
              "  <svg xmlns=\"http://www.w3.org/2000/svg\" height=\"24px\" viewBox=\"0 -960 960 960\">\n",
              "    <path d=\"M120-120v-720h720v720H120Zm60-500h600v-160H180v160Zm220 220h160v-160H400v160Zm0 220h160v-160H400v160ZM180-400h160v-160H180v160Zm440 0h160v-160H620v160ZM180-180h160v-160H180v160Zm440 0h160v-160H620v160Z\"/>\n",
              "  </svg>\n",
              "    </button>\n",
              "\n",
              "  <style>\n",
              "    .colab-df-container {\n",
              "      display:flex;\n",
              "      gap: 12px;\n",
              "    }\n",
              "\n",
              "    .colab-df-convert {\n",
              "      background-color: #E8F0FE;\n",
              "      border: none;\n",
              "      border-radius: 50%;\n",
              "      cursor: pointer;\n",
              "      display: none;\n",
              "      fill: #1967D2;\n",
              "      height: 32px;\n",
              "      padding: 0 0 0 0;\n",
              "      width: 32px;\n",
              "    }\n",
              "\n",
              "    .colab-df-convert:hover {\n",
              "      background-color: #E2EBFA;\n",
              "      box-shadow: 0px 1px 2px rgba(60, 64, 67, 0.3), 0px 1px 3px 1px rgba(60, 64, 67, 0.15);\n",
              "      fill: #174EA6;\n",
              "    }\n",
              "\n",
              "    .colab-df-buttons div {\n",
              "      margin-bottom: 4px;\n",
              "    }\n",
              "\n",
              "    [theme=dark] .colab-df-convert {\n",
              "      background-color: #3B4455;\n",
              "      fill: #D2E3FC;\n",
              "    }\n",
              "\n",
              "    [theme=dark] .colab-df-convert:hover {\n",
              "      background-color: #434B5C;\n",
              "      box-shadow: 0px 1px 3px 1px rgba(0, 0, 0, 0.15);\n",
              "      filter: drop-shadow(0px 1px 2px rgba(0, 0, 0, 0.3));\n",
              "      fill: #FFFFFF;\n",
              "    }\n",
              "  </style>\n",
              "\n",
              "    <script>\n",
              "      const buttonEl =\n",
              "        document.querySelector('#df-0a95d374-78f6-489a-be1d-d4572181df63 button.colab-df-convert');\n",
              "      buttonEl.style.display =\n",
              "        google.colab.kernel.accessAllowed ? 'block' : 'none';\n",
              "\n",
              "      async function convertToInteractive(key) {\n",
              "        const element = document.querySelector('#df-0a95d374-78f6-489a-be1d-d4572181df63');\n",
              "        const dataTable =\n",
              "          await google.colab.kernel.invokeFunction('convertToInteractive',\n",
              "                                                    [key], {});\n",
              "        if (!dataTable) return;\n",
              "\n",
              "        const docLinkHtml = 'Like what you see? Visit the ' +\n",
              "          '<a target=\"_blank\" href=https://colab.research.google.com/notebooks/data_table.ipynb>data table notebook</a>'\n",
              "          + ' to learn more about interactive tables.';\n",
              "        element.innerHTML = '';\n",
              "        dataTable['output_type'] = 'display_data';\n",
              "        await google.colab.output.renderOutput(dataTable, element);\n",
              "        const docLink = document.createElement('div');\n",
              "        docLink.innerHTML = docLinkHtml;\n",
              "        element.appendChild(docLink);\n",
              "      }\n",
              "    </script>\n",
              "  </div>\n",
              "\n",
              "\n",
              "<div id=\"df-5f0f4ab3-b81c-43f5-8509-cc8b806839d4\">\n",
              "  <button class=\"colab-df-quickchart\" onclick=\"quickchart('df-5f0f4ab3-b81c-43f5-8509-cc8b806839d4')\"\n",
              "            title=\"Suggest charts\"\n",
              "            style=\"display:none;\">\n",
              "\n",
              "<svg xmlns=\"http://www.w3.org/2000/svg\" height=\"24px\"viewBox=\"0 0 24 24\"\n",
              "     width=\"24px\">\n",
              "    <g>\n",
              "        <path d=\"M19 3H5c-1.1 0-2 .9-2 2v14c0 1.1.9 2 2 2h14c1.1 0 2-.9 2-2V5c0-1.1-.9-2-2-2zM9 17H7v-7h2v7zm4 0h-2V7h2v10zm4 0h-2v-4h2v4z\"/>\n",
              "    </g>\n",
              "</svg>\n",
              "  </button>\n",
              "\n",
              "<style>\n",
              "  .colab-df-quickchart {\n",
              "      --bg-color: #E8F0FE;\n",
              "      --fill-color: #1967D2;\n",
              "      --hover-bg-color: #E2EBFA;\n",
              "      --hover-fill-color: #174EA6;\n",
              "      --disabled-fill-color: #AAA;\n",
              "      --disabled-bg-color: #DDD;\n",
              "  }\n",
              "\n",
              "  [theme=dark] .colab-df-quickchart {\n",
              "      --bg-color: #3B4455;\n",
              "      --fill-color: #D2E3FC;\n",
              "      --hover-bg-color: #434B5C;\n",
              "      --hover-fill-color: #FFFFFF;\n",
              "      --disabled-bg-color: #3B4455;\n",
              "      --disabled-fill-color: #666;\n",
              "  }\n",
              "\n",
              "  .colab-df-quickchart {\n",
              "    background-color: var(--bg-color);\n",
              "    border: none;\n",
              "    border-radius: 50%;\n",
              "    cursor: pointer;\n",
              "    display: none;\n",
              "    fill: var(--fill-color);\n",
              "    height: 32px;\n",
              "    padding: 0;\n",
              "    width: 32px;\n",
              "  }\n",
              "\n",
              "  .colab-df-quickchart:hover {\n",
              "    background-color: var(--hover-bg-color);\n",
              "    box-shadow: 0 1px 2px rgba(60, 64, 67, 0.3), 0 1px 3px 1px rgba(60, 64, 67, 0.15);\n",
              "    fill: var(--button-hover-fill-color);\n",
              "  }\n",
              "\n",
              "  .colab-df-quickchart-complete:disabled,\n",
              "  .colab-df-quickchart-complete:disabled:hover {\n",
              "    background-color: var(--disabled-bg-color);\n",
              "    fill: var(--disabled-fill-color);\n",
              "    box-shadow: none;\n",
              "  }\n",
              "\n",
              "  .colab-df-spinner {\n",
              "    border: 2px solid var(--fill-color);\n",
              "    border-color: transparent;\n",
              "    border-bottom-color: var(--fill-color);\n",
              "    animation:\n",
              "      spin 1s steps(1) infinite;\n",
              "  }\n",
              "\n",
              "  @keyframes spin {\n",
              "    0% {\n",
              "      border-color: transparent;\n",
              "      border-bottom-color: var(--fill-color);\n",
              "      border-left-color: var(--fill-color);\n",
              "    }\n",
              "    20% {\n",
              "      border-color: transparent;\n",
              "      border-left-color: var(--fill-color);\n",
              "      border-top-color: var(--fill-color);\n",
              "    }\n",
              "    30% {\n",
              "      border-color: transparent;\n",
              "      border-left-color: var(--fill-color);\n",
              "      border-top-color: var(--fill-color);\n",
              "      border-right-color: var(--fill-color);\n",
              "    }\n",
              "    40% {\n",
              "      border-color: transparent;\n",
              "      border-right-color: var(--fill-color);\n",
              "      border-top-color: var(--fill-color);\n",
              "    }\n",
              "    60% {\n",
              "      border-color: transparent;\n",
              "      border-right-color: var(--fill-color);\n",
              "    }\n",
              "    80% {\n",
              "      border-color: transparent;\n",
              "      border-right-color: var(--fill-color);\n",
              "      border-bottom-color: var(--fill-color);\n",
              "    }\n",
              "    90% {\n",
              "      border-color: transparent;\n",
              "      border-bottom-color: var(--fill-color);\n",
              "    }\n",
              "  }\n",
              "</style>\n",
              "\n",
              "  <script>\n",
              "    async function quickchart(key) {\n",
              "      const quickchartButtonEl =\n",
              "        document.querySelector('#' + key + ' button');\n",
              "      quickchartButtonEl.disabled = true;  // To prevent multiple clicks.\n",
              "      quickchartButtonEl.classList.add('colab-df-spinner');\n",
              "      try {\n",
              "        const charts = await google.colab.kernel.invokeFunction(\n",
              "            'suggestCharts', [key], {});\n",
              "      } catch (error) {\n",
              "        console.error('Error during call to suggestCharts:', error);\n",
              "      }\n",
              "      quickchartButtonEl.classList.remove('colab-df-spinner');\n",
              "      quickchartButtonEl.classList.add('colab-df-quickchart-complete');\n",
              "    }\n",
              "    (() => {\n",
              "      let quickchartButtonEl =\n",
              "        document.querySelector('#df-5f0f4ab3-b81c-43f5-8509-cc8b806839d4 button');\n",
              "      quickchartButtonEl.style.display =\n",
              "        google.colab.kernel.accessAllowed ? 'block' : 'none';\n",
              "    })();\n",
              "  </script>\n",
              "</div>\n",
              "    </div>\n",
              "  </div>\n"
            ],
            "application/vnd.google.colaboratory.intrinsic+json": {
              "type": "dataframe",
              "variable_name": "df"
            }
          },
          "metadata": {},
          "execution_count": 15
        }
      ]
    },
    {
      "cell_type": "markdown",
      "source": [
        "Время суток:"
      ],
      "metadata": {
        "id": "iopzpNidgi9_"
      }
    },
    {
      "cell_type": "code",
      "source": [
        "df['hour'] = df['dateTime'].dt.hour\n",
        "\n",
        "\n",
        "def hour_to_time_of_day(hour):\n",
        "  if 0 <= hour <= 5:\n",
        "    return \"Night\"\n",
        "  elif 5 < hour <= 12:\n",
        "    return \"Morning\"\n",
        "  elif 12 < hour < 18:\n",
        "    return \"Day\"\n",
        "  elif 18 <= hour < 24:\n",
        "    return \"Evening\"\n",
        "\n",
        "\n",
        "df['time_of_day'] = df['hour'].apply(hour_to_time_of_day)"
      ],
      "metadata": {
        "id": "tSV5szJbYN4S"
      },
      "execution_count": 16,
      "outputs": []
    },
    {
      "cell_type": "code",
      "source": [
        "df.head()"
      ],
      "metadata": {
        "colab": {
          "base_uri": "https://localhost:8080/",
          "height": 342
        },
        "id": "rgHhsku7gVAW",
        "outputId": "acf925bd-21bc-46bf-d3f9-7025cf182cfe"
      },
      "execution_count": 17,
      "outputs": [
        {
          "output_type": "execute_result",
          "data": {
            "text/plain": [
              "               visitID       date                  dateTime  \\\n",
              "0  4930130390218965245 2024-08-24 2024-08-24 19:09:14+03:00   \n",
              "1  4931195681883816238 2024-08-24 2024-08-24 20:16:58+03:00   \n",
              "2  4931400781901332597 2024-08-24 2024-08-24 20:30:01+03:00   \n",
              "3  4933369587684344107 2024-08-24 2024-08-24 22:35:11+03:00   \n",
              "4  4929748909394231354 2024-08-24 2024-08-24 18:44:59+03:00   \n",
              "\n",
              "                dateTimeUTC  isNewUser  \\\n",
              "0 2024-08-24 16:09:14+00:00          1   \n",
              "1 2024-08-24 17:16:58+00:00          1   \n",
              "2 2024-08-24 17:30:01+00:00          0   \n",
              "3 2024-08-24 19:35:11+00:00          0   \n",
              "4 2024-08-24 15:44:59+00:00          1   \n",
              "\n",
              "                                            startURL  \\\n",
              "0  https://chelyabinsk.propostuplenie.ru/vuzi/chi...   \n",
              "1  https://maximumtest.ru/uchebnik/10-klass/biolo...   \n",
              "2   https://education.maximumtest.ru/student/courses   \n",
              "3  https://blog.maximumtest.ru/post/opublikovano-...   \n",
              "4  https://maximumtest.ru/uchebnik/5-klass/matema...   \n",
              "\n",
              "                                              endURL  pageViews  \\\n",
              "0  https://chelyabinsk.propostuplenie.ru/vuzi/chi...          1   \n",
              "1  https://maximumtest.ru/uchebnik/10-klass/biolo...          1   \n",
              "2   https://education.maximumtest.ru/student/courses          1   \n",
              "3  https://blog.maximumtest.ru/post/opublikovano-...          1   \n",
              "4  https://maximumtest.ru/uchebnik/5-klass/matema...          1   \n",
              "\n",
              "   visitDuration  bounce  ... UTMContent UTMMedium  UTMSource  UTMTerm  \\\n",
              "0              0       1  ...    Unknown   Unknown    Unknown  Unknown   \n",
              "1            335       0  ...    Unknown   Unknown    Unknown  Unknown   \n",
              "2             19       0  ...    Unknown   Unknown    Unknown  Unknown   \n",
              "3             15       0  ...    Unknown   Unknown    Unknown  Unknown   \n",
              "4              1       1  ...    Unknown   Unknown    Unknown  Unknown   \n",
              "\n",
              "  registration_left total_regs day_of_week_num IsWeekend hour time_of_day  \n",
              "0                 0          0               6      True   19     Evening  \n",
              "1                 0          0               6      True   20     Evening  \n",
              "2                 0          0               6      True   20     Evening  \n",
              "3                 0          0               6      True   22     Evening  \n",
              "4                 0          0               6      True   18     Evening  \n",
              "\n",
              "[5 rows x 31 columns]"
            ],
            "text/html": [
              "\n",
              "  <div id=\"df-f341aa75-4296-4a9d-8138-b7931ebf2020\" class=\"colab-df-container\">\n",
              "    <div>\n",
              "<style scoped>\n",
              "    .dataframe tbody tr th:only-of-type {\n",
              "        vertical-align: middle;\n",
              "    }\n",
              "\n",
              "    .dataframe tbody tr th {\n",
              "        vertical-align: top;\n",
              "    }\n",
              "\n",
              "    .dataframe thead th {\n",
              "        text-align: right;\n",
              "    }\n",
              "</style>\n",
              "<table border=\"1\" class=\"dataframe\">\n",
              "  <thead>\n",
              "    <tr style=\"text-align: right;\">\n",
              "      <th></th>\n",
              "      <th>visitID</th>\n",
              "      <th>date</th>\n",
              "      <th>dateTime</th>\n",
              "      <th>dateTimeUTC</th>\n",
              "      <th>isNewUser</th>\n",
              "      <th>startURL</th>\n",
              "      <th>endURL</th>\n",
              "      <th>pageViews</th>\n",
              "      <th>visitDuration</th>\n",
              "      <th>bounce</th>\n",
              "      <th>...</th>\n",
              "      <th>UTMContent</th>\n",
              "      <th>UTMMedium</th>\n",
              "      <th>UTMSource</th>\n",
              "      <th>UTMTerm</th>\n",
              "      <th>registration_left</th>\n",
              "      <th>total_regs</th>\n",
              "      <th>day_of_week_num</th>\n",
              "      <th>IsWeekend</th>\n",
              "      <th>hour</th>\n",
              "      <th>time_of_day</th>\n",
              "    </tr>\n",
              "  </thead>\n",
              "  <tbody>\n",
              "    <tr>\n",
              "      <th>0</th>\n",
              "      <td>4930130390218965245</td>\n",
              "      <td>2024-08-24</td>\n",
              "      <td>2024-08-24 19:09:14+03:00</td>\n",
              "      <td>2024-08-24 16:09:14+00:00</td>\n",
              "      <td>1</td>\n",
              "      <td>https://chelyabinsk.propostuplenie.ru/vuzi/chi...</td>\n",
              "      <td>https://chelyabinsk.propostuplenie.ru/vuzi/chi...</td>\n",
              "      <td>1</td>\n",
              "      <td>0</td>\n",
              "      <td>1</td>\n",
              "      <td>...</td>\n",
              "      <td>Unknown</td>\n",
              "      <td>Unknown</td>\n",
              "      <td>Unknown</td>\n",
              "      <td>Unknown</td>\n",
              "      <td>0</td>\n",
              "      <td>0</td>\n",
              "      <td>6</td>\n",
              "      <td>True</td>\n",
              "      <td>19</td>\n",
              "      <td>Evening</td>\n",
              "    </tr>\n",
              "    <tr>\n",
              "      <th>1</th>\n",
              "      <td>4931195681883816238</td>\n",
              "      <td>2024-08-24</td>\n",
              "      <td>2024-08-24 20:16:58+03:00</td>\n",
              "      <td>2024-08-24 17:16:58+00:00</td>\n",
              "      <td>1</td>\n",
              "      <td>https://maximumtest.ru/uchebnik/10-klass/biolo...</td>\n",
              "      <td>https://maximumtest.ru/uchebnik/10-klass/biolo...</td>\n",
              "      <td>1</td>\n",
              "      <td>335</td>\n",
              "      <td>0</td>\n",
              "      <td>...</td>\n",
              "      <td>Unknown</td>\n",
              "      <td>Unknown</td>\n",
              "      <td>Unknown</td>\n",
              "      <td>Unknown</td>\n",
              "      <td>0</td>\n",
              "      <td>0</td>\n",
              "      <td>6</td>\n",
              "      <td>True</td>\n",
              "      <td>20</td>\n",
              "      <td>Evening</td>\n",
              "    </tr>\n",
              "    <tr>\n",
              "      <th>2</th>\n",
              "      <td>4931400781901332597</td>\n",
              "      <td>2024-08-24</td>\n",
              "      <td>2024-08-24 20:30:01+03:00</td>\n",
              "      <td>2024-08-24 17:30:01+00:00</td>\n",
              "      <td>0</td>\n",
              "      <td>https://education.maximumtest.ru/student/courses</td>\n",
              "      <td>https://education.maximumtest.ru/student/courses</td>\n",
              "      <td>1</td>\n",
              "      <td>19</td>\n",
              "      <td>0</td>\n",
              "      <td>...</td>\n",
              "      <td>Unknown</td>\n",
              "      <td>Unknown</td>\n",
              "      <td>Unknown</td>\n",
              "      <td>Unknown</td>\n",
              "      <td>0</td>\n",
              "      <td>0</td>\n",
              "      <td>6</td>\n",
              "      <td>True</td>\n",
              "      <td>20</td>\n",
              "      <td>Evening</td>\n",
              "    </tr>\n",
              "    <tr>\n",
              "      <th>3</th>\n",
              "      <td>4933369587684344107</td>\n",
              "      <td>2024-08-24</td>\n",
              "      <td>2024-08-24 22:35:11+03:00</td>\n",
              "      <td>2024-08-24 19:35:11+00:00</td>\n",
              "      <td>0</td>\n",
              "      <td>https://blog.maximumtest.ru/post/opublikovano-...</td>\n",
              "      <td>https://blog.maximumtest.ru/post/opublikovano-...</td>\n",
              "      <td>1</td>\n",
              "      <td>15</td>\n",
              "      <td>0</td>\n",
              "      <td>...</td>\n",
              "      <td>Unknown</td>\n",
              "      <td>Unknown</td>\n",
              "      <td>Unknown</td>\n",
              "      <td>Unknown</td>\n",
              "      <td>0</td>\n",
              "      <td>0</td>\n",
              "      <td>6</td>\n",
              "      <td>True</td>\n",
              "      <td>22</td>\n",
              "      <td>Evening</td>\n",
              "    </tr>\n",
              "    <tr>\n",
              "      <th>4</th>\n",
              "      <td>4929748909394231354</td>\n",
              "      <td>2024-08-24</td>\n",
              "      <td>2024-08-24 18:44:59+03:00</td>\n",
              "      <td>2024-08-24 15:44:59+00:00</td>\n",
              "      <td>1</td>\n",
              "      <td>https://maximumtest.ru/uchebnik/5-klass/matema...</td>\n",
              "      <td>https://maximumtest.ru/uchebnik/5-klass/matema...</td>\n",
              "      <td>1</td>\n",
              "      <td>1</td>\n",
              "      <td>1</td>\n",
              "      <td>...</td>\n",
              "      <td>Unknown</td>\n",
              "      <td>Unknown</td>\n",
              "      <td>Unknown</td>\n",
              "      <td>Unknown</td>\n",
              "      <td>0</td>\n",
              "      <td>0</td>\n",
              "      <td>6</td>\n",
              "      <td>True</td>\n",
              "      <td>18</td>\n",
              "      <td>Evening</td>\n",
              "    </tr>\n",
              "  </tbody>\n",
              "</table>\n",
              "<p>5 rows × 31 columns</p>\n",
              "</div>\n",
              "    <div class=\"colab-df-buttons\">\n",
              "\n",
              "  <div class=\"colab-df-container\">\n",
              "    <button class=\"colab-df-convert\" onclick=\"convertToInteractive('df-f341aa75-4296-4a9d-8138-b7931ebf2020')\"\n",
              "            title=\"Convert this dataframe to an interactive table.\"\n",
              "            style=\"display:none;\">\n",
              "\n",
              "  <svg xmlns=\"http://www.w3.org/2000/svg\" height=\"24px\" viewBox=\"0 -960 960 960\">\n",
              "    <path d=\"M120-120v-720h720v720H120Zm60-500h600v-160H180v160Zm220 220h160v-160H400v160Zm0 220h160v-160H400v160ZM180-400h160v-160H180v160Zm440 0h160v-160H620v160ZM180-180h160v-160H180v160Zm440 0h160v-160H620v160Z\"/>\n",
              "  </svg>\n",
              "    </button>\n",
              "\n",
              "  <style>\n",
              "    .colab-df-container {\n",
              "      display:flex;\n",
              "      gap: 12px;\n",
              "    }\n",
              "\n",
              "    .colab-df-convert {\n",
              "      background-color: #E8F0FE;\n",
              "      border: none;\n",
              "      border-radius: 50%;\n",
              "      cursor: pointer;\n",
              "      display: none;\n",
              "      fill: #1967D2;\n",
              "      height: 32px;\n",
              "      padding: 0 0 0 0;\n",
              "      width: 32px;\n",
              "    }\n",
              "\n",
              "    .colab-df-convert:hover {\n",
              "      background-color: #E2EBFA;\n",
              "      box-shadow: 0px 1px 2px rgba(60, 64, 67, 0.3), 0px 1px 3px 1px rgba(60, 64, 67, 0.15);\n",
              "      fill: #174EA6;\n",
              "    }\n",
              "\n",
              "    .colab-df-buttons div {\n",
              "      margin-bottom: 4px;\n",
              "    }\n",
              "\n",
              "    [theme=dark] .colab-df-convert {\n",
              "      background-color: #3B4455;\n",
              "      fill: #D2E3FC;\n",
              "    }\n",
              "\n",
              "    [theme=dark] .colab-df-convert:hover {\n",
              "      background-color: #434B5C;\n",
              "      box-shadow: 0px 1px 3px 1px rgba(0, 0, 0, 0.15);\n",
              "      filter: drop-shadow(0px 1px 2px rgba(0, 0, 0, 0.3));\n",
              "      fill: #FFFFFF;\n",
              "    }\n",
              "  </style>\n",
              "\n",
              "    <script>\n",
              "      const buttonEl =\n",
              "        document.querySelector('#df-f341aa75-4296-4a9d-8138-b7931ebf2020 button.colab-df-convert');\n",
              "      buttonEl.style.display =\n",
              "        google.colab.kernel.accessAllowed ? 'block' : 'none';\n",
              "\n",
              "      async function convertToInteractive(key) {\n",
              "        const element = document.querySelector('#df-f341aa75-4296-4a9d-8138-b7931ebf2020');\n",
              "        const dataTable =\n",
              "          await google.colab.kernel.invokeFunction('convertToInteractive',\n",
              "                                                    [key], {});\n",
              "        if (!dataTable) return;\n",
              "\n",
              "        const docLinkHtml = 'Like what you see? Visit the ' +\n",
              "          '<a target=\"_blank\" href=https://colab.research.google.com/notebooks/data_table.ipynb>data table notebook</a>'\n",
              "          + ' to learn more about interactive tables.';\n",
              "        element.innerHTML = '';\n",
              "        dataTable['output_type'] = 'display_data';\n",
              "        await google.colab.output.renderOutput(dataTable, element);\n",
              "        const docLink = document.createElement('div');\n",
              "        docLink.innerHTML = docLinkHtml;\n",
              "        element.appendChild(docLink);\n",
              "      }\n",
              "    </script>\n",
              "  </div>\n",
              "\n",
              "\n",
              "<div id=\"df-529d7ee2-0199-4485-90ab-e64233bd2514\">\n",
              "  <button class=\"colab-df-quickchart\" onclick=\"quickchart('df-529d7ee2-0199-4485-90ab-e64233bd2514')\"\n",
              "            title=\"Suggest charts\"\n",
              "            style=\"display:none;\">\n",
              "\n",
              "<svg xmlns=\"http://www.w3.org/2000/svg\" height=\"24px\"viewBox=\"0 0 24 24\"\n",
              "     width=\"24px\">\n",
              "    <g>\n",
              "        <path d=\"M19 3H5c-1.1 0-2 .9-2 2v14c0 1.1.9 2 2 2h14c1.1 0 2-.9 2-2V5c0-1.1-.9-2-2-2zM9 17H7v-7h2v7zm4 0h-2V7h2v10zm4 0h-2v-4h2v4z\"/>\n",
              "    </g>\n",
              "</svg>\n",
              "  </button>\n",
              "\n",
              "<style>\n",
              "  .colab-df-quickchart {\n",
              "      --bg-color: #E8F0FE;\n",
              "      --fill-color: #1967D2;\n",
              "      --hover-bg-color: #E2EBFA;\n",
              "      --hover-fill-color: #174EA6;\n",
              "      --disabled-fill-color: #AAA;\n",
              "      --disabled-bg-color: #DDD;\n",
              "  }\n",
              "\n",
              "  [theme=dark] .colab-df-quickchart {\n",
              "      --bg-color: #3B4455;\n",
              "      --fill-color: #D2E3FC;\n",
              "      --hover-bg-color: #434B5C;\n",
              "      --hover-fill-color: #FFFFFF;\n",
              "      --disabled-bg-color: #3B4455;\n",
              "      --disabled-fill-color: #666;\n",
              "  }\n",
              "\n",
              "  .colab-df-quickchart {\n",
              "    background-color: var(--bg-color);\n",
              "    border: none;\n",
              "    border-radius: 50%;\n",
              "    cursor: pointer;\n",
              "    display: none;\n",
              "    fill: var(--fill-color);\n",
              "    height: 32px;\n",
              "    padding: 0;\n",
              "    width: 32px;\n",
              "  }\n",
              "\n",
              "  .colab-df-quickchart:hover {\n",
              "    background-color: var(--hover-bg-color);\n",
              "    box-shadow: 0 1px 2px rgba(60, 64, 67, 0.3), 0 1px 3px 1px rgba(60, 64, 67, 0.15);\n",
              "    fill: var(--button-hover-fill-color);\n",
              "  }\n",
              "\n",
              "  .colab-df-quickchart-complete:disabled,\n",
              "  .colab-df-quickchart-complete:disabled:hover {\n",
              "    background-color: var(--disabled-bg-color);\n",
              "    fill: var(--disabled-fill-color);\n",
              "    box-shadow: none;\n",
              "  }\n",
              "\n",
              "  .colab-df-spinner {\n",
              "    border: 2px solid var(--fill-color);\n",
              "    border-color: transparent;\n",
              "    border-bottom-color: var(--fill-color);\n",
              "    animation:\n",
              "      spin 1s steps(1) infinite;\n",
              "  }\n",
              "\n",
              "  @keyframes spin {\n",
              "    0% {\n",
              "      border-color: transparent;\n",
              "      border-bottom-color: var(--fill-color);\n",
              "      border-left-color: var(--fill-color);\n",
              "    }\n",
              "    20% {\n",
              "      border-color: transparent;\n",
              "      border-left-color: var(--fill-color);\n",
              "      border-top-color: var(--fill-color);\n",
              "    }\n",
              "    30% {\n",
              "      border-color: transparent;\n",
              "      border-left-color: var(--fill-color);\n",
              "      border-top-color: var(--fill-color);\n",
              "      border-right-color: var(--fill-color);\n",
              "    }\n",
              "    40% {\n",
              "      border-color: transparent;\n",
              "      border-right-color: var(--fill-color);\n",
              "      border-top-color: var(--fill-color);\n",
              "    }\n",
              "    60% {\n",
              "      border-color: transparent;\n",
              "      border-right-color: var(--fill-color);\n",
              "    }\n",
              "    80% {\n",
              "      border-color: transparent;\n",
              "      border-right-color: var(--fill-color);\n",
              "      border-bottom-color: var(--fill-color);\n",
              "    }\n",
              "    90% {\n",
              "      border-color: transparent;\n",
              "      border-bottom-color: var(--fill-color);\n",
              "    }\n",
              "  }\n",
              "</style>\n",
              "\n",
              "  <script>\n",
              "    async function quickchart(key) {\n",
              "      const quickchartButtonEl =\n",
              "        document.querySelector('#' + key + ' button');\n",
              "      quickchartButtonEl.disabled = true;  // To prevent multiple clicks.\n",
              "      quickchartButtonEl.classList.add('colab-df-spinner');\n",
              "      try {\n",
              "        const charts = await google.colab.kernel.invokeFunction(\n",
              "            'suggestCharts', [key], {});\n",
              "      } catch (error) {\n",
              "        console.error('Error during call to suggestCharts:', error);\n",
              "      }\n",
              "      quickchartButtonEl.classList.remove('colab-df-spinner');\n",
              "      quickchartButtonEl.classList.add('colab-df-quickchart-complete');\n",
              "    }\n",
              "    (() => {\n",
              "      let quickchartButtonEl =\n",
              "        document.querySelector('#df-529d7ee2-0199-4485-90ab-e64233bd2514 button');\n",
              "      quickchartButtonEl.style.display =\n",
              "        google.colab.kernel.accessAllowed ? 'block' : 'none';\n",
              "    })();\n",
              "  </script>\n",
              "</div>\n",
              "    </div>\n",
              "  </div>\n"
            ],
            "application/vnd.google.colaboratory.intrinsic+json": {
              "type": "dataframe",
              "variable_name": "df"
            }
          },
          "metadata": {},
          "execution_count": 17
        }
      ]
    },
    {
      "cell_type": "markdown",
      "source": [
        "Продолжительность визита в минутах"
      ],
      "metadata": {
        "id": "2gAS1Tvt5GBw"
      }
    },
    {
      "cell_type": "code",
      "source": [
        "df['visitDuration_mins'] = round(df['visitDuration'] / 60, 2)\n",
        "df.head()"
      ],
      "metadata": {
        "colab": {
          "base_uri": "https://localhost:8080/",
          "height": 342
        },
        "id": "gGCCjzRD5Eiu",
        "outputId": "7db08f12-fba4-4f6b-abf8-edb712630931"
      },
      "execution_count": 18,
      "outputs": [
        {
          "output_type": "execute_result",
          "data": {
            "text/plain": [
              "               visitID       date                  dateTime  \\\n",
              "0  4930130390218965245 2024-08-24 2024-08-24 19:09:14+03:00   \n",
              "1  4931195681883816238 2024-08-24 2024-08-24 20:16:58+03:00   \n",
              "2  4931400781901332597 2024-08-24 2024-08-24 20:30:01+03:00   \n",
              "3  4933369587684344107 2024-08-24 2024-08-24 22:35:11+03:00   \n",
              "4  4929748909394231354 2024-08-24 2024-08-24 18:44:59+03:00   \n",
              "\n",
              "                dateTimeUTC  isNewUser  \\\n",
              "0 2024-08-24 16:09:14+00:00          1   \n",
              "1 2024-08-24 17:16:58+00:00          1   \n",
              "2 2024-08-24 17:30:01+00:00          0   \n",
              "3 2024-08-24 19:35:11+00:00          0   \n",
              "4 2024-08-24 15:44:59+00:00          1   \n",
              "\n",
              "                                            startURL  \\\n",
              "0  https://chelyabinsk.propostuplenie.ru/vuzi/chi...   \n",
              "1  https://maximumtest.ru/uchebnik/10-klass/biolo...   \n",
              "2   https://education.maximumtest.ru/student/courses   \n",
              "3  https://blog.maximumtest.ru/post/opublikovano-...   \n",
              "4  https://maximumtest.ru/uchebnik/5-klass/matema...   \n",
              "\n",
              "                                              endURL  pageViews  \\\n",
              "0  https://chelyabinsk.propostuplenie.ru/vuzi/chi...          1   \n",
              "1  https://maximumtest.ru/uchebnik/10-klass/biolo...          1   \n",
              "2   https://education.maximumtest.ru/student/courses          1   \n",
              "3  https://blog.maximumtest.ru/post/opublikovano-...          1   \n",
              "4  https://maximumtest.ru/uchebnik/5-klass/matema...          1   \n",
              "\n",
              "   visitDuration  bounce  ... UTMMedium UTMSource  UTMTerm  registration_left  \\\n",
              "0              0       1  ...   Unknown   Unknown  Unknown                  0   \n",
              "1            335       0  ...   Unknown   Unknown  Unknown                  0   \n",
              "2             19       0  ...   Unknown   Unknown  Unknown                  0   \n",
              "3             15       0  ...   Unknown   Unknown  Unknown                  0   \n",
              "4              1       1  ...   Unknown   Unknown  Unknown                  0   \n",
              "\n",
              "  total_regs day_of_week_num IsWeekend hour time_of_day visitDuration_mins  \n",
              "0          0               6      True   19     Evening               0.00  \n",
              "1          0               6      True   20     Evening               5.58  \n",
              "2          0               6      True   20     Evening               0.32  \n",
              "3          0               6      True   22     Evening               0.25  \n",
              "4          0               6      True   18     Evening               0.02  \n",
              "\n",
              "[5 rows x 32 columns]"
            ],
            "text/html": [
              "\n",
              "  <div id=\"df-51c64516-8cdb-4ed1-a410-f303d308185f\" class=\"colab-df-container\">\n",
              "    <div>\n",
              "<style scoped>\n",
              "    .dataframe tbody tr th:only-of-type {\n",
              "        vertical-align: middle;\n",
              "    }\n",
              "\n",
              "    .dataframe tbody tr th {\n",
              "        vertical-align: top;\n",
              "    }\n",
              "\n",
              "    .dataframe thead th {\n",
              "        text-align: right;\n",
              "    }\n",
              "</style>\n",
              "<table border=\"1\" class=\"dataframe\">\n",
              "  <thead>\n",
              "    <tr style=\"text-align: right;\">\n",
              "      <th></th>\n",
              "      <th>visitID</th>\n",
              "      <th>date</th>\n",
              "      <th>dateTime</th>\n",
              "      <th>dateTimeUTC</th>\n",
              "      <th>isNewUser</th>\n",
              "      <th>startURL</th>\n",
              "      <th>endURL</th>\n",
              "      <th>pageViews</th>\n",
              "      <th>visitDuration</th>\n",
              "      <th>bounce</th>\n",
              "      <th>...</th>\n",
              "      <th>UTMMedium</th>\n",
              "      <th>UTMSource</th>\n",
              "      <th>UTMTerm</th>\n",
              "      <th>registration_left</th>\n",
              "      <th>total_regs</th>\n",
              "      <th>day_of_week_num</th>\n",
              "      <th>IsWeekend</th>\n",
              "      <th>hour</th>\n",
              "      <th>time_of_day</th>\n",
              "      <th>visitDuration_mins</th>\n",
              "    </tr>\n",
              "  </thead>\n",
              "  <tbody>\n",
              "    <tr>\n",
              "      <th>0</th>\n",
              "      <td>4930130390218965245</td>\n",
              "      <td>2024-08-24</td>\n",
              "      <td>2024-08-24 19:09:14+03:00</td>\n",
              "      <td>2024-08-24 16:09:14+00:00</td>\n",
              "      <td>1</td>\n",
              "      <td>https://chelyabinsk.propostuplenie.ru/vuzi/chi...</td>\n",
              "      <td>https://chelyabinsk.propostuplenie.ru/vuzi/chi...</td>\n",
              "      <td>1</td>\n",
              "      <td>0</td>\n",
              "      <td>1</td>\n",
              "      <td>...</td>\n",
              "      <td>Unknown</td>\n",
              "      <td>Unknown</td>\n",
              "      <td>Unknown</td>\n",
              "      <td>0</td>\n",
              "      <td>0</td>\n",
              "      <td>6</td>\n",
              "      <td>True</td>\n",
              "      <td>19</td>\n",
              "      <td>Evening</td>\n",
              "      <td>0.00</td>\n",
              "    </tr>\n",
              "    <tr>\n",
              "      <th>1</th>\n",
              "      <td>4931195681883816238</td>\n",
              "      <td>2024-08-24</td>\n",
              "      <td>2024-08-24 20:16:58+03:00</td>\n",
              "      <td>2024-08-24 17:16:58+00:00</td>\n",
              "      <td>1</td>\n",
              "      <td>https://maximumtest.ru/uchebnik/10-klass/biolo...</td>\n",
              "      <td>https://maximumtest.ru/uchebnik/10-klass/biolo...</td>\n",
              "      <td>1</td>\n",
              "      <td>335</td>\n",
              "      <td>0</td>\n",
              "      <td>...</td>\n",
              "      <td>Unknown</td>\n",
              "      <td>Unknown</td>\n",
              "      <td>Unknown</td>\n",
              "      <td>0</td>\n",
              "      <td>0</td>\n",
              "      <td>6</td>\n",
              "      <td>True</td>\n",
              "      <td>20</td>\n",
              "      <td>Evening</td>\n",
              "      <td>5.58</td>\n",
              "    </tr>\n",
              "    <tr>\n",
              "      <th>2</th>\n",
              "      <td>4931400781901332597</td>\n",
              "      <td>2024-08-24</td>\n",
              "      <td>2024-08-24 20:30:01+03:00</td>\n",
              "      <td>2024-08-24 17:30:01+00:00</td>\n",
              "      <td>0</td>\n",
              "      <td>https://education.maximumtest.ru/student/courses</td>\n",
              "      <td>https://education.maximumtest.ru/student/courses</td>\n",
              "      <td>1</td>\n",
              "      <td>19</td>\n",
              "      <td>0</td>\n",
              "      <td>...</td>\n",
              "      <td>Unknown</td>\n",
              "      <td>Unknown</td>\n",
              "      <td>Unknown</td>\n",
              "      <td>0</td>\n",
              "      <td>0</td>\n",
              "      <td>6</td>\n",
              "      <td>True</td>\n",
              "      <td>20</td>\n",
              "      <td>Evening</td>\n",
              "      <td>0.32</td>\n",
              "    </tr>\n",
              "    <tr>\n",
              "      <th>3</th>\n",
              "      <td>4933369587684344107</td>\n",
              "      <td>2024-08-24</td>\n",
              "      <td>2024-08-24 22:35:11+03:00</td>\n",
              "      <td>2024-08-24 19:35:11+00:00</td>\n",
              "      <td>0</td>\n",
              "      <td>https://blog.maximumtest.ru/post/opublikovano-...</td>\n",
              "      <td>https://blog.maximumtest.ru/post/opublikovano-...</td>\n",
              "      <td>1</td>\n",
              "      <td>15</td>\n",
              "      <td>0</td>\n",
              "      <td>...</td>\n",
              "      <td>Unknown</td>\n",
              "      <td>Unknown</td>\n",
              "      <td>Unknown</td>\n",
              "      <td>0</td>\n",
              "      <td>0</td>\n",
              "      <td>6</td>\n",
              "      <td>True</td>\n",
              "      <td>22</td>\n",
              "      <td>Evening</td>\n",
              "      <td>0.25</td>\n",
              "    </tr>\n",
              "    <tr>\n",
              "      <th>4</th>\n",
              "      <td>4929748909394231354</td>\n",
              "      <td>2024-08-24</td>\n",
              "      <td>2024-08-24 18:44:59+03:00</td>\n",
              "      <td>2024-08-24 15:44:59+00:00</td>\n",
              "      <td>1</td>\n",
              "      <td>https://maximumtest.ru/uchebnik/5-klass/matema...</td>\n",
              "      <td>https://maximumtest.ru/uchebnik/5-klass/matema...</td>\n",
              "      <td>1</td>\n",
              "      <td>1</td>\n",
              "      <td>1</td>\n",
              "      <td>...</td>\n",
              "      <td>Unknown</td>\n",
              "      <td>Unknown</td>\n",
              "      <td>Unknown</td>\n",
              "      <td>0</td>\n",
              "      <td>0</td>\n",
              "      <td>6</td>\n",
              "      <td>True</td>\n",
              "      <td>18</td>\n",
              "      <td>Evening</td>\n",
              "      <td>0.02</td>\n",
              "    </tr>\n",
              "  </tbody>\n",
              "</table>\n",
              "<p>5 rows × 32 columns</p>\n",
              "</div>\n",
              "    <div class=\"colab-df-buttons\">\n",
              "\n",
              "  <div class=\"colab-df-container\">\n",
              "    <button class=\"colab-df-convert\" onclick=\"convertToInteractive('df-51c64516-8cdb-4ed1-a410-f303d308185f')\"\n",
              "            title=\"Convert this dataframe to an interactive table.\"\n",
              "            style=\"display:none;\">\n",
              "\n",
              "  <svg xmlns=\"http://www.w3.org/2000/svg\" height=\"24px\" viewBox=\"0 -960 960 960\">\n",
              "    <path d=\"M120-120v-720h720v720H120Zm60-500h600v-160H180v160Zm220 220h160v-160H400v160Zm0 220h160v-160H400v160ZM180-400h160v-160H180v160Zm440 0h160v-160H620v160ZM180-180h160v-160H180v160Zm440 0h160v-160H620v160Z\"/>\n",
              "  </svg>\n",
              "    </button>\n",
              "\n",
              "  <style>\n",
              "    .colab-df-container {\n",
              "      display:flex;\n",
              "      gap: 12px;\n",
              "    }\n",
              "\n",
              "    .colab-df-convert {\n",
              "      background-color: #E8F0FE;\n",
              "      border: none;\n",
              "      border-radius: 50%;\n",
              "      cursor: pointer;\n",
              "      display: none;\n",
              "      fill: #1967D2;\n",
              "      height: 32px;\n",
              "      padding: 0 0 0 0;\n",
              "      width: 32px;\n",
              "    }\n",
              "\n",
              "    .colab-df-convert:hover {\n",
              "      background-color: #E2EBFA;\n",
              "      box-shadow: 0px 1px 2px rgba(60, 64, 67, 0.3), 0px 1px 3px 1px rgba(60, 64, 67, 0.15);\n",
              "      fill: #174EA6;\n",
              "    }\n",
              "\n",
              "    .colab-df-buttons div {\n",
              "      margin-bottom: 4px;\n",
              "    }\n",
              "\n",
              "    [theme=dark] .colab-df-convert {\n",
              "      background-color: #3B4455;\n",
              "      fill: #D2E3FC;\n",
              "    }\n",
              "\n",
              "    [theme=dark] .colab-df-convert:hover {\n",
              "      background-color: #434B5C;\n",
              "      box-shadow: 0px 1px 3px 1px rgba(0, 0, 0, 0.15);\n",
              "      filter: drop-shadow(0px 1px 2px rgba(0, 0, 0, 0.3));\n",
              "      fill: #FFFFFF;\n",
              "    }\n",
              "  </style>\n",
              "\n",
              "    <script>\n",
              "      const buttonEl =\n",
              "        document.querySelector('#df-51c64516-8cdb-4ed1-a410-f303d308185f button.colab-df-convert');\n",
              "      buttonEl.style.display =\n",
              "        google.colab.kernel.accessAllowed ? 'block' : 'none';\n",
              "\n",
              "      async function convertToInteractive(key) {\n",
              "        const element = document.querySelector('#df-51c64516-8cdb-4ed1-a410-f303d308185f');\n",
              "        const dataTable =\n",
              "          await google.colab.kernel.invokeFunction('convertToInteractive',\n",
              "                                                    [key], {});\n",
              "        if (!dataTable) return;\n",
              "\n",
              "        const docLinkHtml = 'Like what you see? Visit the ' +\n",
              "          '<a target=\"_blank\" href=https://colab.research.google.com/notebooks/data_table.ipynb>data table notebook</a>'\n",
              "          + ' to learn more about interactive tables.';\n",
              "        element.innerHTML = '';\n",
              "        dataTable['output_type'] = 'display_data';\n",
              "        await google.colab.output.renderOutput(dataTable, element);\n",
              "        const docLink = document.createElement('div');\n",
              "        docLink.innerHTML = docLinkHtml;\n",
              "        element.appendChild(docLink);\n",
              "      }\n",
              "    </script>\n",
              "  </div>\n",
              "\n",
              "\n",
              "<div id=\"df-7bb7793b-5d0a-4253-b971-62bb055ab356\">\n",
              "  <button class=\"colab-df-quickchart\" onclick=\"quickchart('df-7bb7793b-5d0a-4253-b971-62bb055ab356')\"\n",
              "            title=\"Suggest charts\"\n",
              "            style=\"display:none;\">\n",
              "\n",
              "<svg xmlns=\"http://www.w3.org/2000/svg\" height=\"24px\"viewBox=\"0 0 24 24\"\n",
              "     width=\"24px\">\n",
              "    <g>\n",
              "        <path d=\"M19 3H5c-1.1 0-2 .9-2 2v14c0 1.1.9 2 2 2h14c1.1 0 2-.9 2-2V5c0-1.1-.9-2-2-2zM9 17H7v-7h2v7zm4 0h-2V7h2v10zm4 0h-2v-4h2v4z\"/>\n",
              "    </g>\n",
              "</svg>\n",
              "  </button>\n",
              "\n",
              "<style>\n",
              "  .colab-df-quickchart {\n",
              "      --bg-color: #E8F0FE;\n",
              "      --fill-color: #1967D2;\n",
              "      --hover-bg-color: #E2EBFA;\n",
              "      --hover-fill-color: #174EA6;\n",
              "      --disabled-fill-color: #AAA;\n",
              "      --disabled-bg-color: #DDD;\n",
              "  }\n",
              "\n",
              "  [theme=dark] .colab-df-quickchart {\n",
              "      --bg-color: #3B4455;\n",
              "      --fill-color: #D2E3FC;\n",
              "      --hover-bg-color: #434B5C;\n",
              "      --hover-fill-color: #FFFFFF;\n",
              "      --disabled-bg-color: #3B4455;\n",
              "      --disabled-fill-color: #666;\n",
              "  }\n",
              "\n",
              "  .colab-df-quickchart {\n",
              "    background-color: var(--bg-color);\n",
              "    border: none;\n",
              "    border-radius: 50%;\n",
              "    cursor: pointer;\n",
              "    display: none;\n",
              "    fill: var(--fill-color);\n",
              "    height: 32px;\n",
              "    padding: 0;\n",
              "    width: 32px;\n",
              "  }\n",
              "\n",
              "  .colab-df-quickchart:hover {\n",
              "    background-color: var(--hover-bg-color);\n",
              "    box-shadow: 0 1px 2px rgba(60, 64, 67, 0.3), 0 1px 3px 1px rgba(60, 64, 67, 0.15);\n",
              "    fill: var(--button-hover-fill-color);\n",
              "  }\n",
              "\n",
              "  .colab-df-quickchart-complete:disabled,\n",
              "  .colab-df-quickchart-complete:disabled:hover {\n",
              "    background-color: var(--disabled-bg-color);\n",
              "    fill: var(--disabled-fill-color);\n",
              "    box-shadow: none;\n",
              "  }\n",
              "\n",
              "  .colab-df-spinner {\n",
              "    border: 2px solid var(--fill-color);\n",
              "    border-color: transparent;\n",
              "    border-bottom-color: var(--fill-color);\n",
              "    animation:\n",
              "      spin 1s steps(1) infinite;\n",
              "  }\n",
              "\n",
              "  @keyframes spin {\n",
              "    0% {\n",
              "      border-color: transparent;\n",
              "      border-bottom-color: var(--fill-color);\n",
              "      border-left-color: var(--fill-color);\n",
              "    }\n",
              "    20% {\n",
              "      border-color: transparent;\n",
              "      border-left-color: var(--fill-color);\n",
              "      border-top-color: var(--fill-color);\n",
              "    }\n",
              "    30% {\n",
              "      border-color: transparent;\n",
              "      border-left-color: var(--fill-color);\n",
              "      border-top-color: var(--fill-color);\n",
              "      border-right-color: var(--fill-color);\n",
              "    }\n",
              "    40% {\n",
              "      border-color: transparent;\n",
              "      border-right-color: var(--fill-color);\n",
              "      border-top-color: var(--fill-color);\n",
              "    }\n",
              "    60% {\n",
              "      border-color: transparent;\n",
              "      border-right-color: var(--fill-color);\n",
              "    }\n",
              "    80% {\n",
              "      border-color: transparent;\n",
              "      border-right-color: var(--fill-color);\n",
              "      border-bottom-color: var(--fill-color);\n",
              "    }\n",
              "    90% {\n",
              "      border-color: transparent;\n",
              "      border-bottom-color: var(--fill-color);\n",
              "    }\n",
              "  }\n",
              "</style>\n",
              "\n",
              "  <script>\n",
              "    async function quickchart(key) {\n",
              "      const quickchartButtonEl =\n",
              "        document.querySelector('#' + key + ' button');\n",
              "      quickchartButtonEl.disabled = true;  // To prevent multiple clicks.\n",
              "      quickchartButtonEl.classList.add('colab-df-spinner');\n",
              "      try {\n",
              "        const charts = await google.colab.kernel.invokeFunction(\n",
              "            'suggestCharts', [key], {});\n",
              "      } catch (error) {\n",
              "        console.error('Error during call to suggestCharts:', error);\n",
              "      }\n",
              "      quickchartButtonEl.classList.remove('colab-df-spinner');\n",
              "      quickchartButtonEl.classList.add('colab-df-quickchart-complete');\n",
              "    }\n",
              "    (() => {\n",
              "      let quickchartButtonEl =\n",
              "        document.querySelector('#df-7bb7793b-5d0a-4253-b971-62bb055ab356 button');\n",
              "      quickchartButtonEl.style.display =\n",
              "        google.colab.kernel.accessAllowed ? 'block' : 'none';\n",
              "    })();\n",
              "  </script>\n",
              "</div>\n",
              "    </div>\n",
              "  </div>\n"
            ],
            "application/vnd.google.colaboratory.intrinsic+json": {
              "type": "dataframe",
              "variable_name": "df"
            }
          },
          "metadata": {},
          "execution_count": 18
        }
      ]
    },
    {
      "cell_type": "markdown",
      "source": [
        "# Расчет метрик"
      ],
      "metadata": {
        "id": "2df6FuZ7-bdn"
      }
    },
    {
      "cell_type": "markdown",
      "source": [
        "**Общее количество визитов**"
      ],
      "metadata": {
        "id": "sDA0PmVimzP-"
      }
    },
    {
      "cell_type": "code",
      "source": [
        "visits_num = len(df)\n",
        "print(f\"Всего визитов: {visits_num}\")"
      ],
      "metadata": {
        "colab": {
          "base_uri": "https://localhost:8080/"
        },
        "id": "gIQG-3L6m3t8",
        "outputId": "3d479b7e-2684-45fa-e61c-6cc8c7df3e25"
      },
      "execution_count": 19,
      "outputs": [
        {
          "output_type": "stream",
          "name": "stdout",
          "text": [
            "Всего визитов: 332523\n"
          ]
        }
      ]
    },
    {
      "cell_type": "markdown",
      "source": [
        "**Общее количество уникальных пользователей**"
      ],
      "metadata": {
        "id": "5AYe1UyR-iO-"
      }
    },
    {
      "cell_type": "code",
      "source": [
        "uniq_users_num = df['clientID'].nunique()\n",
        "print(f\"Уникальных пользователей: {uniq_users_num}\")"
      ],
      "metadata": {
        "colab": {
          "base_uri": "https://localhost:8080/"
        },
        "id": "6suzqPM1nFvC",
        "outputId": "fabfcb0f-05fd-41ee-9999-6c54a9b1314e"
      },
      "execution_count": 20,
      "outputs": [
        {
          "output_type": "stream",
          "name": "stdout",
          "text": [
            "Уникальных пользователей: 216548\n"
          ]
        }
      ]
    },
    {
      "cell_type": "markdown",
      "source": [
        "**Процент новых пользователей**"
      ],
      "metadata": {
        "id": "kUEtAUsOeoED"
      }
    },
    {
      "cell_type": "code",
      "source": [
        "NewUsers_perc = 100 * uniq_users_num / visits_num\n",
        "print(f\"Процент новых пользователей: {NewUsers_perc:.2f}%\")"
      ],
      "metadata": {
        "colab": {
          "base_uri": "https://localhost:8080/"
        },
        "id": "GKj_o9IHep9e",
        "outputId": "76776792-3e55-485a-ffaf-cd56406fdd74"
      },
      "execution_count": 21,
      "outputs": [
        {
          "output_type": "stream",
          "name": "stdout",
          "text": [
            "Процент новых пользователей: 65.12%\n"
          ]
        }
      ]
    },
    {
      "cell_type": "markdown",
      "source": [
        "**Среднее количество просмотренных страниц на визит**"
      ],
      "metadata": {
        "id": "P_v09CkVDCS6"
      }
    },
    {
      "cell_type": "code",
      "source": [
        "avg_pageViews = df['pageViews'].mean()\n",
        "print(f\"Среднее количество просмотренных страниц за визит: {avg_pageViews:.0f}\")"
      ],
      "metadata": {
        "colab": {
          "base_uri": "https://localhost:8080/"
        },
        "id": "Y-VC8w6qCCJe",
        "outputId": "8a3fa5b0-aa55-4534-dfbc-ce37ea11f90b"
      },
      "execution_count": 22,
      "outputs": [
        {
          "output_type": "stream",
          "name": "stdout",
          "text": [
            "Среднее количество просмотренных страниц за визит: 2\n"
          ]
        }
      ]
    },
    {
      "cell_type": "code",
      "source": [
        "grouped_avg = df.groupby('isNewUser')['pageViews'].mean()\n",
        "print(grouped_avg)"
      ],
      "metadata": {
        "colab": {
          "base_uri": "https://localhost:8080/"
        },
        "id": "gdqmZaOHDzqa",
        "outputId": "4ab85c6d-db1d-4be1-9feb-dbe22f4a9f1e"
      },
      "execution_count": 23,
      "outputs": [
        {
          "output_type": "stream",
          "name": "stdout",
          "text": [
            "isNewUser\n",
            "0    2.647398\n",
            "1    1.588787\n",
            "Name: pageViews, dtype: float64\n"
          ]
        }
      ]
    },
    {
      "cell_type": "markdown",
      "source": [
        "В среднем пользователи при первом входе на сайт смотрят меньше вкладок, чем при последующих"
      ],
      "metadata": {
        "id": "-L-Ecgb-EEeN"
      }
    },
    {
      "cell_type": "markdown",
      "source": [
        "**Средняя продолжительность визита**"
      ],
      "metadata": {
        "id": "vLKUFM9PEaoi"
      }
    },
    {
      "cell_type": "code",
      "source": [
        "avg_visitDuration = df['visitDuration_mins'].mean()\n",
        "print(f\"Среднее значение: {avg_visitDuration:.1f} мин\")"
      ],
      "metadata": {
        "colab": {
          "base_uri": "https://localhost:8080/"
        },
        "id": "GDQBm8XhEcf2",
        "outputId": "5d5eee94-5a6e-4c7a-d694-58eae3a1cfb0"
      },
      "execution_count": 24,
      "outputs": [
        {
          "output_type": "stream",
          "name": "stdout",
          "text": [
            "Среднее значение: 4.9 мин\n"
          ]
        }
      ]
    },
    {
      "cell_type": "markdown",
      "source": [
        "**Процент отказов:**"
      ],
      "metadata": {
        "id": "HDLdpZc8Akbb"
      }
    },
    {
      "cell_type": "code",
      "source": [
        "unique_users_bounc = df.groupby('clientID')['bounce'].max()\n",
        "bounc_perc = unique_users_bounc.mean() * 100\n",
        "print(f\"Процент отказов: {bounc_perc:.2f}%\")"
      ],
      "metadata": {
        "colab": {
          "base_uri": "https://localhost:8080/"
        },
        "id": "9R-aP7xEAoat",
        "outputId": "64390a6d-e0c4-4e21-c707-62dacbb62dd4"
      },
      "execution_count": 26,
      "outputs": [
        {
          "output_type": "stream",
          "name": "stdout",
          "text": [
            "Процент отказов: 22.27%\n"
          ]
        }
      ]
    },
    {
      "cell_type": "markdown",
      "source": [
        "**Процент регистраций:**"
      ],
      "metadata": {
        "id": "bRyfcWONpmdI"
      }
    },
    {
      "cell_type": "code",
      "source": [
        "unique_users_registration = df.groupby('clientID')['registration_left'].max()\n",
        "reg_left_perc = unique_users_registration.mean() * 100\n",
        "\n",
        "print(f\"Процент уникальных пользователей с регистрацией: {reg_left_perc:.2f}%\")"
      ],
      "metadata": {
        "colab": {
          "base_uri": "https://localhost:8080/"
        },
        "id": "iekus3AxpmBg",
        "outputId": "e44fb682-cd11-49bb-a712-57361f231e80"
      },
      "execution_count": 27,
      "outputs": [
        {
          "output_type": "stream",
          "name": "stdout",
          "text": [
            "Процент уникальных пользователей с регистрацией: 0.53%\n"
          ]
        }
      ]
    },
    {
      "cell_type": "markdown",
      "source": [
        "# Анализ распределений по категориям"
      ],
      "metadata": {
        "id": "GHSpzs59fZic"
      }
    },
    {
      "cell_type": "markdown",
      "source": [
        "## По времени"
      ],
      "metadata": {
        "id": "-UygBatB_-rA"
      }
    },
    {
      "cell_type": "code",
      "source": [
        "daily_visits = df['day_of_week_num'].value_counts()\n",
        "daily_visits = daily_visits.sort_index()\n",
        "daily_visits.plot(kind='bar', title='Динамика посещений по дням')"
      ],
      "metadata": {
        "colab": {
          "base_uri": "https://localhost:8080/",
          "height": 484
        },
        "id": "W4z6XxrEAJLb",
        "outputId": "b7cb48ad-8730-4a4d-c4ab-5e5fbde7fc24"
      },
      "execution_count": 25,
      "outputs": [
        {
          "output_type": "execute_result",
          "data": {
            "text/plain": [
              "<Axes: title={'center': 'Динамика посещений по дням'}, xlabel='day_of_week_num'>"
            ]
          },
          "metadata": {},
          "execution_count": 25
        },
        {
          "output_type": "display_data",
          "data": {
            "text/plain": [
              "<Figure size 640x480 with 1 Axes>"
            ],
            "image/png": "[encoded data removed]"
          },
          "metadata": {}
        }
      ]
    },
    {
      "cell_type": "markdown",
      "source": [
        "Больше всего людей поещает сайт в будние дни с понедельника по пятницу. В выходные количество посетителей снижается"
      ],
      "metadata": {
        "id": "gAadGAr4C5dP"
      }
    },
    {
      "cell_type": "code",
      "source": [
        "# Конверсия по дням недели\n",
        "(df.groupby('day_of_week_num')['registration_left']\n",
        "   .mean()\n",
        "   .sort_index()\n",
        "   .plot(kind='bar', title='Конверсия по дням недели'))"
      ],
      "metadata": {
        "colab": {
          "base_uri": "https://localhost:8080/",
          "height": 484
        },
        "id": "Gi5NfDtZDN_x",
        "outputId": "13407402-d061-4e96-beca-8860187a89d3"
      },
      "execution_count": 26,
      "outputs": [
        {
          "output_type": "execute_result",
          "data": {
            "text/plain": [
              "<Axes: title={'center': 'Конверсия по дням недели'}, xlabel='day_of_week_num'>"
            ]
          },
          "metadata": {},
          "execution_count": 26
        },
        {
          "output_type": "display_data",
          "data": {
            "text/plain": [
              "<Figure size 640x480 with 1 Axes>"
            ],
            "image/png": "[encoded data removed]"
          },
          "metadata": {}
        }
      ]
    },
    {
      "cell_type": "markdown",
      "source": [
        "При этом, конверсия выше в субботу и воскресенье. Это может быть связано с тем, что по будням у людей меньше времени, и они успевают только просматривать информацию, а свои контакты оставляюи, когда появляется время."
      ],
      "metadata": {
        "id": "32cCU7gTDYxV"
      }
    },
    {
      "cell_type": "code",
      "source": [
        "time_of_visit = df['time_of_day'].value_counts()\n",
        "time_of_visit.plot(kind='bar', title='Динамика посещений по времени суток')"
      ],
      "metadata": {
        "colab": {
          "base_uri": "https://localhost:8080/",
          "height": 531
        },
        "id": "k-iyebUUG-yP",
        "outputId": "6db3dffe-9ec5-4994-a91f-750ac641e6de"
      },
      "execution_count": 27,
      "outputs": [
        {
          "output_type": "execute_result",
          "data": {
            "text/plain": [
              "<Axes: title={'center': 'Динамика посещений по времени суток'}, xlabel='time_of_day'>"
            ]
          },
          "metadata": {},
          "execution_count": 27
        },
        {
          "output_type": "display_data",
          "data": {
            "text/plain": [
              "<Figure size 640x480 with 1 Axes>"
            ],
            "image/png": "[encoded data removed]"
          },
          "metadata": {}
        }
      ]
    },
    {
      "cell_type": "code",
      "source": [
        "# Конверсия по времени суток\n",
        "(df.groupby('time_of_day')['registration_left']\n",
        "   .mean()\n",
        "   .sort_index()\n",
        "   .plot(kind='bar', title='Конверсия по времени суток'))"
      ],
      "metadata": {
        "colab": {
          "base_uri": "https://localhost:8080/",
          "height": 531
        },
        "id": "qx37Z83-HX7B",
        "outputId": "5573cf01-7d6a-44af-a28d-b0971e6193e5"
      },
      "execution_count": 28,
      "outputs": [
        {
          "output_type": "execute_result",
          "data": {
            "text/plain": [
              "<Axes: title={'center': 'Конверсия по времени суток'}, xlabel='time_of_day'>"
            ]
          },
          "metadata": {},
          "execution_count": 28
        },
        {
          "output_type": "display_data",
          "data": {
            "text/plain": [
              "<Figure size 640x480 with 1 Axes>"
            ],
            "image/png": "[encoded data removed]"
          },
          "metadata": {}
        }
      ]
    },
    {
      "cell_type": "markdown",
      "source": [
        "Заходят люди чаще всего утром, но конверсия выше всего вечером. Возможно, тут таккая же ситуация, что и с днями недели. Вечером у людей больше времени"
      ],
      "metadata": {
        "id": "RaLAEJioHeh8"
      }
    },
    {
      "cell_type": "markdown",
      "source": [
        "## По устройствам"
      ],
      "metadata": {
        "id": "jVNgd_fFhLAe"
      }
    },
    {
      "cell_type": "code",
      "source": [
        "df['operatingSystemRoot'].value_counts()"
      ],
      "metadata": {
        "colab": {
          "base_uri": "https://localhost:8080/",
          "height": 429
        },
        "id": "Wie4KZln8tjy",
        "outputId": "2fee0542-0856-4f16-b3e4-76509ec2f9d9"
      },
      "execution_count": 29,
      "outputs": [
        {
          "output_type": "execute_result",
          "data": {
            "text/plain": [
              "operatingSystemRoot\n",
              "android             163898\n",
              "windows              95060\n",
              "ios_double           63294\n",
              "macos                 7226\n",
              "gnu_linux             2867\n",
              "Unknown                163\n",
              "google_chrome_os         9\n",
              "tizen                    3\n",
              "firefox_os               2\n",
              "bsd                      1\n",
              "Name: count, dtype: Int64"
            ],
            "text/html": [
              "<div>\n",
              "<style scoped>\n",
              "    .dataframe tbody tr th:only-of-type {\n",
              "        vertical-align: middle;\n",
              "    }\n",
              "\n",
              "    .dataframe tbody tr th {\n",
              "        vertical-align: top;\n",
              "    }\n",
              "\n",
              "    .dataframe thead th {\n",
              "        text-align: right;\n",
              "    }\n",
              "</style>\n",
              "<table border=\"1\" class=\"dataframe\">\n",
              "  <thead>\n",
              "    <tr style=\"text-align: right;\">\n",
              "      <th></th>\n",
              "      <th>count</th>\n",
              "    </tr>\n",
              "    <tr>\n",
              "      <th>operatingSystemRoot</th>\n",
              "      <th></th>\n",
              "    </tr>\n",
              "  </thead>\n",
              "  <tbody>\n",
              "    <tr>\n",
              "      <th>android</th>\n",
              "      <td>163898</td>\n",
              "    </tr>\n",
              "    <tr>\n",
              "      <th>windows</th>\n",
              "      <td>95060</td>\n",
              "    </tr>\n",
              "    <tr>\n",
              "      <th>ios_double</th>\n",
              "      <td>63294</td>\n",
              "    </tr>\n",
              "    <tr>\n",
              "      <th>macos</th>\n",
              "      <td>7226</td>\n",
              "    </tr>\n",
              "    <tr>\n",
              "      <th>gnu_linux</th>\n",
              "      <td>2867</td>\n",
              "    </tr>\n",
              "    <tr>\n",
              "      <th>Unknown</th>\n",
              "      <td>163</td>\n",
              "    </tr>\n",
              "    <tr>\n",
              "      <th>google_chrome_os</th>\n",
              "      <td>9</td>\n",
              "    </tr>\n",
              "    <tr>\n",
              "      <th>tizen</th>\n",
              "      <td>3</td>\n",
              "    </tr>\n",
              "    <tr>\n",
              "      <th>firefox_os</th>\n",
              "      <td>2</td>\n",
              "    </tr>\n",
              "    <tr>\n",
              "      <th>bsd</th>\n",
              "      <td>1</td>\n",
              "    </tr>\n",
              "  </tbody>\n",
              "</table>\n",
              "</div><br><label><b>dtype:</b> Int64</label>"
            ]
          },
          "metadata": {},
          "execution_count": 29
        }
      ]
    },
    {
      "cell_type": "code",
      "source": [
        "# Распределение по ОС\n",
        "operatingSystems_perc = df['operatingSystemRoot'].value_counts(normalize=True)\n",
        "operatingSystems_perc.plot(kind='bar', title='Доля операционных систем')"
      ],
      "metadata": {
        "colab": {
          "base_uri": "https://localhost:8080/",
          "height": 604
        },
        "id": "UC4BXHx1xbGk",
        "outputId": "a871588b-ff07-46b7-fc4e-281660852696"
      },
      "execution_count": 30,
      "outputs": [
        {
          "output_type": "execute_result",
          "data": {
            "text/plain": [
              "<Axes: title={'center': 'Доля операционных систем'}, xlabel='operatingSystemRoot'>"
            ]
          },
          "metadata": {},
          "execution_count": 30
        },
        {
          "output_type": "display_data",
          "data": {
            "text/plain": [
              "<Figure size 640x480 with 1 Axes>"
            ],
            "image/png": "[encoded data removed]"
          },
          "metadata": {}
        }
      ]
    },
    {
      "cell_type": "markdown",
      "source": [
        "Почти половина пользователей заходит с телефонов на базе андроид. Примерно 30% используют компьютер с Windows и около 20% заходят с айфонов. Пользователей маков около 2%, а с линукса заходят порядка 1% пользователей. Составляющая других пользователей стремится к нулю.\n"
      ],
      "metadata": {
        "id": "u7vtaV8F35Te"
      }
    },
    {
      "cell_type": "code",
      "source": [
        "# Отказы по устройствам\n",
        "(df.groupby('operatingSystemRoot')['bounce']\n",
        "   .mean()\n",
        "   .sort_values()\n",
        "   .plot(kind='bar', title='Процент отказов по ОС'))"
      ],
      "metadata": {
        "colab": {
          "base_uri": "https://localhost:8080/",
          "height": 604
        },
        "id": "Ykg3yVEj1kVM",
        "outputId": "d9988210-3c23-4da9-c428-7ba6f3685852"
      },
      "execution_count": 31,
      "outputs": [
        {
          "output_type": "execute_result",
          "data": {
            "text/plain": [
              "<Axes: title={'center': 'Процент отказов по ОС'}, xlabel='operatingSystemRoot'>"
            ]
          },
          "metadata": {},
          "execution_count": 31
        },
        {
          "output_type": "display_data",
          "data": {
            "text/plain": [
              "<Figure size 640x480 with 1 Axes>"
            ],
            "image/png": "[encoded data removed]"
          },
          "metadata": {}
        }
      ]
    },
    {
      "cell_type": "markdown",
      "source": [
        "* Больше всего отказов с устройств на специфических ОС, таких как linux и bsd. Процент пользователей с такими системами крайне мал. Вполне возможно, что сайт не очень адаптирован под такие системы.\n",
        "* Процент отказов пользователей айфонов немного выше, чем пользователей mac, android и windows."
      ],
      "metadata": {
        "id": "8wauPfIm4yIG"
      }
    },
    {
      "cell_type": "markdown",
      "source": [
        "## По браузерам:"
      ],
      "metadata": {
        "id": "IIHn1Qet6En2"
      }
    },
    {
      "cell_type": "code",
      "source": [
        "# Распределение по браузерам\n",
        "operatingSystems_perc = df['browser'].value_counts(normalize=True)\n",
        "operatingSystems_perc.plot(kind='bar', title='Доля браузеров')"
      ],
      "metadata": {
        "colab": {
          "base_uri": "https://localhost:8080/",
          "height": 612
        },
        "id": "uu8iQW146Pty",
        "outputId": "0be8f7c0-994d-455a-c1d7-fac81583b322"
      },
      "execution_count": 32,
      "outputs": [
        {
          "output_type": "execute_result",
          "data": {
            "text/plain": [
              "<Axes: title={'center': 'Доля браузеров'}, xlabel='browser'>"
            ]
          },
          "metadata": {},
          "execution_count": 32
        },
        {
          "output_type": "display_data",
          "data": {
            "text/plain": [
              "<Figure size 640x480 with 1 Axes>"
            ],
            "image/png": "[encoded data removed]"
          },
          "metadata": {}
        }
      ]
    },
    {
      "cell_type": "code",
      "source": [
        "# Отказы по браузерам\n",
        "(df.groupby('browser')['bounce']\n",
        "   .mean()\n",
        "   .sort_values()\n",
        "   .plot(kind='bar', title='Процент отказов по браузерам'))"
      ],
      "metadata": {
        "colab": {
          "base_uri": "https://localhost:8080/",
          "height": 612
        },
        "id": "6WWkccmV6k2g",
        "outputId": "da68c632-b7df-4dc5-9814-ab2af6114a09"
      },
      "execution_count": 33,
      "outputs": [
        {
          "output_type": "execute_result",
          "data": {
            "text/plain": [
              "<Axes: title={'center': 'Процент отказов по браузерам'}, xlabel='browser'>"
            ]
          },
          "metadata": {},
          "execution_count": 33
        },
        {
          "output_type": "display_data",
          "data": {
            "text/plain": [
              "<Figure size 640x480 with 1 Axes>"
            ],
            "image/png": "[encoded data removed]"
          },
          "metadata": {}
        }
      ]
    },
    {
      "cell_type": "markdown",
      "source": [
        "Как и в случае с ОС, наибольший процент отказов у наиболее редких и специфичных бразуеров, под которые может быть хуже адаптирован сайт."
      ],
      "metadata": {
        "id": "4lGy8bau6_2W"
      }
    },
    {
      "cell_type": "markdown",
      "source": [
        "## Географический анализ"
      ],
      "metadata": {
        "id": "ysluA2GT7bpV"
      }
    },
    {
      "cell_type": "markdown",
      "source": [
        "### По странам"
      ],
      "metadata": {
        "id": "nVYYQRZS8eDy"
      }
    },
    {
      "cell_type": "code",
      "source": [
        "# Топ-5 стран\n",
        "top_countries = df['regionCountry'].value_counts().head(5)\n",
        "top_countries.plot(kind='bar', title='Топ-5 стран по визитам')"
      ],
      "metadata": {
        "colab": {
          "base_uri": "https://localhost:8080/",
          "height": 555
        },
        "id": "JemBAADK9RXy",
        "outputId": "f57201f4-5318-482b-9af1-9181952cf64a"
      },
      "execution_count": 34,
      "outputs": [
        {
          "output_type": "execute_result",
          "data": {
            "text/plain": [
              "<Axes: title={'center': 'Топ-5 стран по визитам'}, xlabel='regionCountry'>"
            ]
          },
          "metadata": {},
          "execution_count": 34
        },
        {
          "output_type": "display_data",
          "data": {
            "text/plain": [
              "<Figure size 640x480 with 1 Axes>"
            ],
            "image/png": "[encoded data removed]"
          },
          "metadata": {}
        }
      ]
    },
    {
      "cell_type": "code",
      "source": [
        "# Конверсия по странам\n",
        "(df[df['regionCountry'].isin(top_countries.index)]\n",
        " .groupby('regionCountry')['registration_left']\n",
        " .mean()\n",
        " .sort_values()\n",
        " .plot(kind='bar', title='Конверсия по топ-5 странам'))"
      ],
      "metadata": {
        "colab": {
          "base_uri": "https://localhost:8080/",
          "height": 555
        },
        "id": "iykyjs7O9dQI",
        "outputId": "8b3768f8-7965-4dce-9a31-417c67327c91"
      },
      "execution_count": 35,
      "outputs": [
        {
          "output_type": "execute_result",
          "data": {
            "text/plain": [
              "<Axes: title={'center': 'Конверсия по топ-5 странам'}, xlabel='regionCountry'>"
            ]
          },
          "metadata": {},
          "execution_count": 35
        },
        {
          "output_type": "display_data",
          "data": {
            "text/plain": [
              "<Figure size 640x480 with 1 Axes>"
            ],
            "image/png": "[encoded data removed]"
          },
          "metadata": {}
        }
      ]
    },
    {
      "cell_type": "markdown",
      "source": [
        "* Конверсия в России наибольшая, по сравнению с другими странами, что коррелирует с наибольшим количеством посетителей.\n",
        "* Несмотря на то, что по общему количеству посетителей Казахстан проигрывал, по конверсии Казахстан оказался выше всех остальных стран из топ-5, кроме Росии. Это может быть связано с территориальной и культурной близостью и схожестью образовательных программ."
      ],
      "metadata": {
        "id": "TNUWhVr4Bywc"
      }
    },
    {
      "cell_type": "markdown",
      "source": [
        "### По городам"
      ],
      "metadata": {
        "id": "KOWZonB28YYv"
      }
    },
    {
      "cell_type": "code",
      "source": [
        "# Топ-5 городов\n",
        "top_cities = df['regionCity'].value_counts().head(5)\n",
        "top_cities.plot(kind='bar', title='Топ-5 городов по визитам')"
      ],
      "metadata": {
        "colab": {
          "base_uri": "https://localhost:8080/",
          "height": 594
        },
        "id": "sRs2amaE7elK",
        "outputId": "ab0d7eed-a3ae-436e-fe7d-401af142fa4f"
      },
      "execution_count": 36,
      "outputs": [
        {
          "output_type": "execute_result",
          "data": {
            "text/plain": [
              "<Axes: title={'center': 'Топ-5 городов по визитам'}, xlabel='regionCity'>"
            ]
          },
          "metadata": {},
          "execution_count": 36
        },
        {
          "output_type": "display_data",
          "data": {
            "text/plain": [
              "<Figure size 640x480 with 1 Axes>"
            ],
            "image/png": "[encoded data removed]"
          },
          "metadata": {}
        }
      ]
    },
    {
      "cell_type": "markdown",
      "source": [
        "* Большую часть составляют пользователи, город которых не был определен.\n",
        "* Из известных городов больше всего пользователей из Москвы, Питера, Нижнего Новгорода и Екатеринбурга. Это коррелирует с численностью населения в городах"
      ],
      "metadata": {
        "id": "OcVkj0m-HQSi"
      }
    },
    {
      "cell_type": "code",
      "source": [
        "# Конверсия по городам\n",
        "(df[df['regionCity'].isin(top_cities.index)]\n",
        " .groupby('regionCity')['registration_left']\n",
        " .mean()\n",
        " .sort_values()\n",
        " .plot(kind='bar', title='Конверсия по топ-5 городам'))"
      ],
      "metadata": {
        "colab": {
          "base_uri": "https://localhost:8080/",
          "height": 594
        },
        "id": "M-HzEJzG7k_U",
        "outputId": "f1d96755-ee23-4a8c-bb71-087af83e9005"
      },
      "execution_count": 37,
      "outputs": [
        {
          "output_type": "execute_result",
          "data": {
            "text/plain": [
              "<Axes: title={'center': 'Конверсия по топ-5 городам'}, xlabel='regionCity'>"
            ]
          },
          "metadata": {},
          "execution_count": 37
        },
        {
          "output_type": "display_data",
          "data": {
            "text/plain": [
              "<Figure size 640x480 with 1 Axes>"
            ],
            "image/png": "[encoded data removed]"
          },
          "metadata": {}
        }
      ]
    },
    {
      "cell_type": "markdown",
      "source": [
        "При этом видно, что конверсия в Нижнем Новгороде и Санкт-Петербурге выше, чем в других городах топа. Может быть в этих городах услуги рекламируются лучше, или меньше альтернатив, по сравнению с Москвой."
      ],
      "metadata": {
        "id": "4ryBGreAInFS"
      }
    },
    {
      "cell_type": "markdown",
      "source": [
        "## По источнику трафика"
      ],
      "metadata": {
        "id": "8eurgkiIJEQg"
      }
    },
    {
      "cell_type": "code",
      "source": [
        "# Топ-10 источников трафика\n",
        "top_sources = df['UTMSource'].value_counts().head(10)\n",
        "top_sources.plot(kind='bar', title='Топ-10 источников трафика')"
      ],
      "metadata": {
        "colab": {
          "base_uri": "https://localhost:8080/",
          "height": 570
        },
        "id": "NeIU1yxaJIjk",
        "outputId": "720668c9-7b1f-44be-de6c-d8e16539c680"
      },
      "execution_count": 28,
      "outputs": [
        {
          "output_type": "execute_result",
          "data": {
            "text/plain": [
              "<Axes: title={'center': 'Топ-10 источников трафика'}, xlabel='UTMSource'>"
            ]
          },
          "metadata": {},
          "execution_count": 28
        },
        {
          "output_type": "display_data",
          "data": {
            "text/plain": [
              "<Figure size 640x480 with 1 Axes>"
            ],
            "image/png": "[encoded data removed]"
          },
          "metadata": {}
        }
      ]
    },
    {
      "cell_type": "code",
      "source": [
        "# Конверсия по источникам\n",
        "(df[df['UTMSource'].isin(top_sources.index)]\n",
        " .groupby('UTMSource')['registration_left']\n",
        " .mean()\n",
        " .sort_values()\n",
        " .plot(kind='bar', title='Конверсия по топ-10 источникам'))"
      ],
      "metadata": {
        "colab": {
          "base_uri": "https://localhost:8080/",
          "height": 570
        },
        "id": "ZZArWsMnKGWw",
        "outputId": "6c68f0b4-0709-4f77-a941-a3fbdaba449f"
      },
      "execution_count": 29,
      "outputs": [
        {
          "output_type": "execute_result",
          "data": {
            "text/plain": [
              "<Axes: title={'center': 'Конверсия по топ-10 источникам'}, xlabel='UTMSource'>"
            ]
          },
          "metadata": {},
          "execution_count": 29
        },
        {
          "output_type": "display_data",
          "data": {
            "text/plain": [
              "<Figure size 640x480 with 1 Axes>"
            ],
            "image/png": "[encoded data removed]"
          },
          "metadata": {}
        }
      ]
    },
    {
      "cell_type": "markdown",
      "source": [
        "\n",
        "\n",
        "\n",
        "Видно, что yandex, tg_mindbox, mindbox являются наиболее эффективными источниками траффика."
      ],
      "metadata": {
        "id": "5jPyFChMNJsc"
      }
    },
    {
      "cell_type": "markdown",
      "source": [
        "Посмотрим на органический и платный траффик"
      ],
      "metadata": {
        "id": "AmgWg0JPNqTE"
      }
    },
    {
      "cell_type": "code",
      "source": [
        "df['lastTrafficSource'].value_counts()"
      ],
      "metadata": {
        "colab": {
          "base_uri": "https://localhost:8080/",
          "height": 460
        },
        "id": "Bzc-fCk8NefU",
        "outputId": "3a2e20ad-e989-45f6-c358-56ed2f52c0b8"
      },
      "execution_count": 31,
      "outputs": [
        {
          "output_type": "execute_result",
          "data": {
            "text/plain": [
              "lastTrafficSource\n",
              "organic      178846\n",
              "direct        63800\n",
              "ad            44055\n",
              "internal      35449\n",
              "referral       6805\n",
              "social         1963\n",
              "email          1259\n",
              "messenger       217\n",
              "recommend       108\n",
              "undefined        19\n",
              "saved             2\n",
              "Name: count, dtype: Int64"
            ],
            "text/html": [
              "<div>\n",
              "<style scoped>\n",
              "    .dataframe tbody tr th:only-of-type {\n",
              "        vertical-align: middle;\n",
              "    }\n",
              "\n",
              "    .dataframe tbody tr th {\n",
              "        vertical-align: top;\n",
              "    }\n",
              "\n",
              "    .dataframe thead th {\n",
              "        text-align: right;\n",
              "    }\n",
              "</style>\n",
              "<table border=\"1\" class=\"dataframe\">\n",
              "  <thead>\n",
              "    <tr style=\"text-align: right;\">\n",
              "      <th></th>\n",
              "      <th>count</th>\n",
              "    </tr>\n",
              "    <tr>\n",
              "      <th>lastTrafficSource</th>\n",
              "      <th></th>\n",
              "    </tr>\n",
              "  </thead>\n",
              "  <tbody>\n",
              "    <tr>\n",
              "      <th>organic</th>\n",
              "      <td>178846</td>\n",
              "    </tr>\n",
              "    <tr>\n",
              "      <th>direct</th>\n",
              "      <td>63800</td>\n",
              "    </tr>\n",
              "    <tr>\n",
              "      <th>ad</th>\n",
              "      <td>44055</td>\n",
              "    </tr>\n",
              "    <tr>\n",
              "      <th>internal</th>\n",
              "      <td>35449</td>\n",
              "    </tr>\n",
              "    <tr>\n",
              "      <th>referral</th>\n",
              "      <td>6805</td>\n",
              "    </tr>\n",
              "    <tr>\n",
              "      <th>social</th>\n",
              "      <td>1963</td>\n",
              "    </tr>\n",
              "    <tr>\n",
              "      <th>email</th>\n",
              "      <td>1259</td>\n",
              "    </tr>\n",
              "    <tr>\n",
              "      <th>messenger</th>\n",
              "      <td>217</td>\n",
              "    </tr>\n",
              "    <tr>\n",
              "      <th>recommend</th>\n",
              "      <td>108</td>\n",
              "    </tr>\n",
              "    <tr>\n",
              "      <th>undefined</th>\n",
              "      <td>19</td>\n",
              "    </tr>\n",
              "    <tr>\n",
              "      <th>saved</th>\n",
              "      <td>2</td>\n",
              "    </tr>\n",
              "  </tbody>\n",
              "</table>\n",
              "</div><br><label><b>dtype:</b> Int64</label>"
            ]
          },
          "metadata": {},
          "execution_count": 31
        }
      ]
    },
    {
      "cell_type": "code",
      "source": [
        "paid_sources = ['ad', 'social', 'messenger']  # Платные источники\n",
        "organic_sources = ['organic', 'direct', 'internal', 'referral', 'email', 'recommend', 'saved']  # Органические источники\n",
        "\n",
        "df['TrafficType'] = df['lastTrafficSource'].apply(\n",
        "    lambda x: 'paid' if x in paid_sources else 'organic' if x in organic_sources else 'other'\n",
        ")"
      ],
      "metadata": {
        "id": "4q4vuNnNOqF2"
      },
      "execution_count": 32,
      "outputs": []
    },
    {
      "cell_type": "code",
      "source": [
        "traffic_counts = df['TrafficType'].value_counts()\n",
        "print(traffic_counts)\n",
        "traffic_counts.plot(kind='bar', title='Количество посещений по типам трафика')"
      ],
      "metadata": {
        "colab": {
          "base_uri": "https://localhost:8080/",
          "height": 613
        },
        "id": "yjW2lgX2PZJj",
        "outputId": "60c3b358-76ef-4a69-80eb-1de2939464be"
      },
      "execution_count": 33,
      "outputs": [
        {
          "output_type": "stream",
          "name": "stdout",
          "text": [
            "TrafficType\n",
            "organic    286269\n",
            "paid        46235\n",
            "other          19\n",
            "Name: count, dtype: int64\n"
          ]
        },
        {
          "output_type": "execute_result",
          "data": {
            "text/plain": [
              "<Axes: title={'center': 'Количество посещений по типам трафика'}, xlabel='TrafficType'>"
            ]
          },
          "metadata": {},
          "execution_count": 33
        },
        {
          "output_type": "display_data",
          "data": {
            "text/plain": [
              "<Figure size 640x480 with 1 Axes>"
            ],
            "image/png": "[encoded data removed]"
          },
          "metadata": {}
        }
      ]
    },
    {
      "cell_type": "code",
      "source": [
        "conversion = df.groupby('TrafficType')['registration_left'].mean().mul(100).round(1)\n",
        "print(conversion)\n",
        "conversion.plot(kind='bar', title='Конверсия по типам трафика')"
      ],
      "metadata": {
        "colab": {
          "base_uri": "https://localhost:8080/",
          "height": 613
        },
        "id": "jxrYmsFgPfX9",
        "outputId": "ce5878e8-ce03-4ceb-cd98-12b6b28e860e"
      },
      "execution_count": 34,
      "outputs": [
        {
          "output_type": "stream",
          "name": "stdout",
          "text": [
            "TrafficType\n",
            "organic    0.1\n",
            "other      0.0\n",
            "paid       2.2\n",
            "Name: registration_left, dtype: float64\n"
          ]
        },
        {
          "output_type": "execute_result",
          "data": {
            "text/plain": [
              "<Axes: title={'center': 'Конверсия по типам трафика'}, xlabel='TrafficType'>"
            ]
          },
          "metadata": {},
          "execution_count": 34
        },
        {
          "output_type": "display_data",
          "data": {
            "text/plain": [
              "<Figure size 640x480 with 1 Axes>"
            ],
            "image/png": "[encoded data removed]"
          },
          "metadata": {}
        }
      ]
    },
    {
      "cell_type": "markdown",
      "source": [
        "Видно, что по органическому траффику приходит больше посетителей, но конверсия выше именно у тех, кто пришел по платному."
      ],
      "metadata": {
        "id": "dTI5IpY0PnG9"
      }
    },
    {
      "cell_type": "markdown",
      "source": [
        "#  Кластеризация"
      ],
      "metadata": {
        "id": "TQIwRT60DVUq"
      }
    },
    {
      "cell_type": "markdown",
      "source": [
        "## K-Means"
      ],
      "metadata": {
        "id": "9THDCD9HHV6s"
      }
    },
    {
      "cell_type": "code",
      "source": [
        "user_features = df.groupby('clientID').agg({\n",
        "    'pageViews': 'mean',\n",
        "    'visitDuration_mins': 'mean',\n",
        "    'bounce': 'mean',\n",
        "    'registration_left': 'max'\n",
        "}).reset_index()\n",
        "\n",
        "# Пример результата:\n",
        "print(user_features.head())"
      ],
      "metadata": {
        "colab": {
          "base_uri": "https://localhost:8080/"
        },
        "id": "SkSgE5p1RNRR",
        "outputId": "c25ff279-e8b1-46bd-8a08-b548aa2eb8fa"
      },
      "execution_count": 60,
      "outputs": [
        {
          "output_type": "stream",
          "name": "stdout",
          "text": [
            "           clientID  pageViews  visitDuration_mins    bounce  \\\n",
            "0                 0   1.380952            0.931905  0.809524   \n",
            "1        2920608771   1.000000            0.270000  0.000000   \n",
            "2  1610520826645921   5.000000            9.150000  0.000000   \n",
            "3  1633792399990137   1.000000            3.400000  0.000000   \n",
            "4  1635238599161426   1.000000            0.250000  0.000000   \n",
            "\n",
            "   registration_left  \n",
            "0                  0  \n",
            "1                  0  \n",
            "2                  0  \n",
            "3                  0  \n",
            "4                  0  \n"
          ]
        }
      ]
    },
    {
      "cell_type": "code",
      "source": [
        "data_for_clustering = user_features.drop('clientID', axis=1)"
      ],
      "metadata": {
        "id": "JvAh3DbmSdyL"
      },
      "execution_count": 61,
      "outputs": []
    },
    {
      "cell_type": "code",
      "source": [
        "scaler = StandardScaler()\n",
        "scaled_data = scaler.fit_transform(data_for_clustering)"
      ],
      "metadata": {
        "id": "g0l85t8USic4"
      },
      "execution_count": 62,
      "outputs": []
    },
    {
      "cell_type": "code",
      "source": [
        "inertia = []\n",
        "for k in range(1, 11):\n",
        "    kmeans = KMeans(n_clusters=k, random_state=42, n_init='auto').fit(scaled_data)\n",
        "    inertia.append(np.sqrt(kmeans.inertia_))\n",
        "\n",
        "plt.plot(range(1, 11), inertia, marker=\"s\", label=\"Inertia\")\n",
        "plt.xlabel(\"$k$ (Number of clusters)\")\n",
        "plt.ylabel(\"$J(C_k)$ (Inertia)\")\n",
        "plt.title(\"Метод локтя\")\n",
        "\n",
        "# поиск \"локтя\" (оптимального k)\n",
        "# для этого найдем точку, где уменьшение inertia начинает замедляться\n",
        "# используем вторую производную для нахождения точки перегиба\n",
        "diff = np.diff(inertia)  # первая производная\n",
        "diff2 = np.diff(diff)    # вторая производная\n",
        "optimal_k = np.argmax(diff2) + 2  # +2, так как diff2 имеет длину на 2 меньше\n",
        "\n",
        "# добавляем вертикальную линию для оптимального k\n",
        "plt.axvline(x=optimal_k, color='r', linestyle='--', label=f'Optimal k = {optimal_k}')\n",
        "plt.legend()\n",
        "\n",
        "plt.show()"
      ],
      "metadata": {
        "id": "6MiGqzcOSiXv",
        "colab": {
          "base_uri": "https://localhost:8080/",
          "height": 474
        },
        "outputId": "09513171-a82c-4400-db71-7adec63004a4"
      },
      "execution_count": 63,
      "outputs": [
        {
          "output_type": "display_data",
          "data": {
            "text/plain": [
              "<Figure size 640x480 with 1 Axes>"
            ],
            "image/png": "[encoded data removed]"
          },
          "metadata": {}
        }
      ]
    },
    {
      "cell_type": "code",
      "source": [
        "kmeans = KMeans(n_clusters=optimal_k, random_state=42)\n",
        "data_for_clustering['K-Means'] = kmeans.fit_predict(scaled_data)\n",
        "\n",
        "print(data_for_clustering['K-Means'].value_counts(normalize=True))\n",
        "data_for_clustering['K-Means'].value_counts(normalize=True).sort_index().plot(kind='bar', title='Распределение по кластерам')"
      ],
      "metadata": {
        "id": "Sjb_MmIdSqdS",
        "colab": {
          "base_uri": "https://localhost:8080/",
          "height": 588
        },
        "outputId": "9f049dbc-dd69-4729-92b6-aef260192ccb"
      },
      "execution_count": 71,
      "outputs": [
        {
          "output_type": "stream",
          "name": "stdout",
          "text": [
            "K-Means\n",
            "3    0.757282\n",
            "0    0.195527\n",
            "1    0.041926\n",
            "2    0.005264\n",
            "Name: proportion, dtype: float64\n"
          ]
        },
        {
          "output_type": "execute_result",
          "data": {
            "text/plain": [
              "<Axes: title={'center': 'Распределение по кластерам'}, xlabel='K-Means'>"
            ]
          },
          "metadata": {},
          "execution_count": 71
        },
        {
          "output_type": "display_data",
          "data": {
            "text/plain": [
              "<Figure size 640x480 with 1 Axes>"
            ],
            "image/png": "[encoded data removed]"
          },
          "metadata": {}
        }
      ]
    },
    {
      "cell_type": "code",
      "source": [
        "cluster_stats = data_for_clustering.groupby('K-Means').mean()\n",
        "print(cluster_stats)"
      ],
      "metadata": {
        "id": "CD5sG4urSqa2",
        "colab": {
          "base_uri": "https://localhost:8080/"
        },
        "outputId": "13447395-e834-4102-c589-3f565ede64cf"
      },
      "execution_count": 66,
      "outputs": [
        {
          "output_type": "stream",
          "name": "stdout",
          "text": [
            "         pageViews  visitDuration_mins    bounce  registration_left\n",
            "K-Means                                                            \n",
            "0         1.022732            0.100483  0.940921                0.0\n",
            "1         5.722398           21.544427  0.022504                0.0\n",
            "2         3.671518            6.465188  0.047956                1.0\n",
            "3         1.466862            1.590696  0.009243                0.0\n"
          ]
        }
      ]
    },
    {
      "cell_type": "code",
      "source": [
        "silhouette = silhouette_score(scaled_data, data_for_clustering['K-Means'], sample_size=10_000)\n",
        "print('Силуэт', round(silhouette,3))"
      ],
      "metadata": {
        "id": "BL8MMp-uSqXw",
        "colab": {
          "base_uri": "https://localhost:8080/"
        },
        "outputId": "3c7fc047-ca8a-414a-922e-a9c53a8991d9"
      },
      "execution_count": 67,
      "outputs": [
        {
          "output_type": "stream",
          "name": "stdout",
          "text": [
            "Силуэт 0.747\n"
          ]
        }
      ]
    },
    {
      "cell_type": "markdown",
      "source": [
        "При использовании признаков pageViews, visitDuration_mins, bounce, registration_left удалось выделить 4 кластера.\n",
        "* 0-й кластер: минимальное время пребывания на сайте и количесвто просмотренных страниц - скорее всего случайный посетитель (около 20% посетителей)\n",
        "* 1-й кластер: много просмотренных страниц, долгое время пребывания на сайте - потенциальный покупатель, который еще не решился на покупку (около 4% посетителей)\n",
        "* 2-й кластер: среднее количество просмотренных страниц, и среднее время на сайте + оставлена регистрация - покупатель (0.5% посетителей)\n",
        "* 3-й кластер: посетители, которые могут пока только присматриваться к продуктам. Они еще не перешли на стадию размышления, как в кластере 1, но еще и не решились на покупку, как в кластере 2 (около 75% посетителей)"
      ],
      "metadata": {
        "id": "1qm9UnX_lDb2"
      }
    }
  ]
}